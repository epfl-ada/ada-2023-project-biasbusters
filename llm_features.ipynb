{
 "cells": [
  {
   "cell_type": "code",
   "execution_count": 1,
   "id": "5de6dd3c-822e-42c9-aba1-d06b953efc35",
   "metadata": {},
   "outputs": [],
   "source": [
    "import pandas as pd\n",
    "import json\n",
    "import numpy as np"
   ]
  },
  {
   "cell_type": "code",
   "execution_count": 2,
   "id": "23205f5c-b5d6-42ce-a855-dedff01c0b8c",
   "metadata": {},
   "outputs": [
    {
     "data": {
      "text/html": [
       "<div>\n",
       "<style scoped>\n",
       "    .dataframe tbody tr th:only-of-type {\n",
       "        vertical-align: middle;\n",
       "    }\n",
       "\n",
       "    .dataframe tbody tr th {\n",
       "        vertical-align: top;\n",
       "    }\n",
       "\n",
       "    .dataframe thead th {\n",
       "        text-align: right;\n",
       "    }\n",
       "</style>\n",
       "<table border=\"1\" class=\"dataframe\">\n",
       "  <thead>\n",
       "    <tr style=\"text-align: right;\">\n",
       "      <th></th>\n",
       "      <th>movie_wikipedia_id</th>\n",
       "      <th>movie_freebase_id</th>\n",
       "      <th>movie_name</th>\n",
       "      <th>release_year</th>\n",
       "      <th>revenue</th>\n",
       "      <th>runtime</th>\n",
       "      <th>languages</th>\n",
       "      <th>countries</th>\n",
       "      <th>genres</th>\n",
       "      <th>plot_summary</th>\n",
       "      <th>...</th>\n",
       "      <th>char_count</th>\n",
       "      <th>avg_word_length</th>\n",
       "      <th>sentence_count</th>\n",
       "      <th>lexical_diversity</th>\n",
       "      <th>sentiment_polarity</th>\n",
       "      <th>topic</th>\n",
       "      <th>mood</th>\n",
       "      <th>target_audience</th>\n",
       "      <th>temporal_setting</th>\n",
       "      <th>location_setting</th>\n",
       "    </tr>\n",
       "  </thead>\n",
       "  <tbody>\n",
       "    <tr>\n",
       "      <th>0</th>\n",
       "      <td>975900</td>\n",
       "      <td>/m/03vyhn</td>\n",
       "      <td>Ghosts of Mars</td>\n",
       "      <td>2001</td>\n",
       "      <td>14010832.0</td>\n",
       "      <td>98.0</td>\n",
       "      <td>{\"/m/02h40lc\": \"English Language\"}</td>\n",
       "      <td>{\"/m/09c7w0\": \"United States of America\"}</td>\n",
       "      <td>{\"/m/01jfsb\": \"Thriller\", \"/m/06n90\": \"Science...</td>\n",
       "      <td>Set in the second half of the 22nd century, th...</td>\n",
       "      <td>...</td>\n",
       "      <td>2181</td>\n",
       "      <td>6.109244</td>\n",
       "      <td>15</td>\n",
       "      <td>0.627451</td>\n",
       "      <td>-0.085095</td>\n",
       "      <td>[\"science fiction\", \"horror\"]</td>\n",
       "      <td>[\"dark\", \"dramatic\"]</td>\n",
       "      <td>[\"adults\"]</td>\n",
       "      <td>[\"future\"]</td>\n",
       "      <td>[\"fictional\"]</td>\n",
       "    </tr>\n",
       "    <tr>\n",
       "      <th>1</th>\n",
       "      <td>9363483</td>\n",
       "      <td>/m/0285_cd</td>\n",
       "      <td>White Of The Eye</td>\n",
       "      <td>1987</td>\n",
       "      <td>NaN</td>\n",
       "      <td>110.0</td>\n",
       "      <td>{\"/m/02h40lc\": \"English Language\"}</td>\n",
       "      <td>{\"/m/07ssc\": \"United Kingdom\"}</td>\n",
       "      <td>{\"/m/01jfsb\": \"Thriller\", \"/m/0glj9q\": \"Erotic...</td>\n",
       "      <td>A series of murders of rich young women throug...</td>\n",
       "      <td>...</td>\n",
       "      <td>3301</td>\n",
       "      <td>5.594915</td>\n",
       "      <td>36</td>\n",
       "      <td>0.542373</td>\n",
       "      <td>0.035867</td>\n",
       "      <td>[\"mystery\", \"drama\"]</td>\n",
       "      <td>[\"dark\"]</td>\n",
       "      <td>[\"adults\"]</td>\n",
       "      <td>[\"modern\"]</td>\n",
       "      <td>[\"real\"]</td>\n",
       "    </tr>\n",
       "    <tr>\n",
       "      <th>2</th>\n",
       "      <td>261236</td>\n",
       "      <td>/m/01mrr1</td>\n",
       "      <td>A Woman in Flames</td>\n",
       "      <td>1983</td>\n",
       "      <td>NaN</td>\n",
       "      <td>106.0</td>\n",
       "      <td>{\"/m/04306rv\": \"German Language\"}</td>\n",
       "      <td>{\"/m/0345h\": \"Germany\"}</td>\n",
       "      <td>{\"/m/07s9rl0\": \"Drama\"}</td>\n",
       "      <td>Eva, an upper class housewife, becomes frustra...</td>\n",
       "      <td>...</td>\n",
       "      <td>2339</td>\n",
       "      <td>5.490610</td>\n",
       "      <td>24</td>\n",
       "      <td>0.582160</td>\n",
       "      <td>0.133259</td>\n",
       "      <td>[\"drama\"]</td>\n",
       "      <td>[\"dark\"]</td>\n",
       "      <td>[\"adults\"]</td>\n",
       "      <td>[\"modern\"]</td>\n",
       "      <td>[\"real\"]</td>\n",
       "    </tr>\n",
       "    <tr>\n",
       "      <th>3</th>\n",
       "      <td>18998739</td>\n",
       "      <td>/m/04jcqvw</td>\n",
       "      <td>The Sorcerer's Apprentice</td>\n",
       "      <td>2002</td>\n",
       "      <td>NaN</td>\n",
       "      <td>86.0</td>\n",
       "      <td>{\"/m/02h40lc\": \"English Language\"}</td>\n",
       "      <td>{\"/m/0hzlz\": \"South Africa\"}</td>\n",
       "      <td>{\"/m/0hqxf\": \"Family Film\", \"/m/01hmnh\": \"Fant...</td>\n",
       "      <td>Every hundred years, the evil Morgana  returns...</td>\n",
       "      <td>...</td>\n",
       "      <td>870</td>\n",
       "      <td>5.337423</td>\n",
       "      <td>7</td>\n",
       "      <td>0.631902</td>\n",
       "      <td>0.040568</td>\n",
       "      <td>[\"fantasy\", \"adventure\"]</td>\n",
       "      <td>[\"inspirational\"]</td>\n",
       "      <td>[\"children\"]</td>\n",
       "      <td>[\"past\"]</td>\n",
       "      <td>[\"fictional\"]</td>\n",
       "    </tr>\n",
       "    <tr>\n",
       "      <th>4</th>\n",
       "      <td>6631279</td>\n",
       "      <td>/m/0gffwj</td>\n",
       "      <td>Little city</td>\n",
       "      <td>1997</td>\n",
       "      <td>NaN</td>\n",
       "      <td>93.0</td>\n",
       "      <td>{\"/m/02h40lc\": \"English Language\"}</td>\n",
       "      <td>{\"/m/09c7w0\": \"United States of America\"}</td>\n",
       "      <td>{\"/m/06cvj\": \"Romantic comedy\", \"/m/0hj3n0w\": ...</td>\n",
       "      <td>Adam, a San Francisco-based artist who works a...</td>\n",
       "      <td>...</td>\n",
       "      <td>1234</td>\n",
       "      <td>5.484444</td>\n",
       "      <td>9</td>\n",
       "      <td>0.626667</td>\n",
       "      <td>0.165202</td>\n",
       "      <td>[\"romance\", \"drama\"]</td>\n",
       "      <td>[\"romantic\", \"dramatic\"]</td>\n",
       "      <td>[\"adults\"]</td>\n",
       "      <td>[\"modern\"]</td>\n",
       "      <td>[\"real\"]</td>\n",
       "    </tr>\n",
       "  </tbody>\n",
       "</table>\n",
       "<p>5 rows × 22 columns</p>\n",
       "</div>"
      ],
      "text/plain": [
       "   movie_wikipedia_id movie_freebase_id                 movie_name  \\\n",
       "0              975900         /m/03vyhn             Ghosts of Mars   \n",
       "1             9363483        /m/0285_cd           White Of The Eye   \n",
       "2              261236         /m/01mrr1          A Woman in Flames   \n",
       "3            18998739        /m/04jcqvw  The Sorcerer's Apprentice   \n",
       "4             6631279         /m/0gffwj                Little city   \n",
       "\n",
       "   release_year     revenue  runtime                           languages  \\\n",
       "0          2001  14010832.0     98.0  {\"/m/02h40lc\": \"English Language\"}   \n",
       "1          1987         NaN    110.0  {\"/m/02h40lc\": \"English Language\"}   \n",
       "2          1983         NaN    106.0   {\"/m/04306rv\": \"German Language\"}   \n",
       "3          2002         NaN     86.0  {\"/m/02h40lc\": \"English Language\"}   \n",
       "4          1997         NaN     93.0  {\"/m/02h40lc\": \"English Language\"}   \n",
       "\n",
       "                                   countries  \\\n",
       "0  {\"/m/09c7w0\": \"United States of America\"}   \n",
       "1             {\"/m/07ssc\": \"United Kingdom\"}   \n",
       "2                    {\"/m/0345h\": \"Germany\"}   \n",
       "3               {\"/m/0hzlz\": \"South Africa\"}   \n",
       "4  {\"/m/09c7w0\": \"United States of America\"}   \n",
       "\n",
       "                                              genres  \\\n",
       "0  {\"/m/01jfsb\": \"Thriller\", \"/m/06n90\": \"Science...   \n",
       "1  {\"/m/01jfsb\": \"Thriller\", \"/m/0glj9q\": \"Erotic...   \n",
       "2                            {\"/m/07s9rl0\": \"Drama\"}   \n",
       "3  {\"/m/0hqxf\": \"Family Film\", \"/m/01hmnh\": \"Fant...   \n",
       "4  {\"/m/06cvj\": \"Romantic comedy\", \"/m/0hj3n0w\": ...   \n",
       "\n",
       "                                        plot_summary  ... char_count  \\\n",
       "0  Set in the second half of the 22nd century, th...  ...       2181   \n",
       "1  A series of murders of rich young women throug...  ...       3301   \n",
       "2  Eva, an upper class housewife, becomes frustra...  ...       2339   \n",
       "3  Every hundred years, the evil Morgana  returns...  ...        870   \n",
       "4  Adam, a San Francisco-based artist who works a...  ...       1234   \n",
       "\n",
       "   avg_word_length  sentence_count  lexical_diversity  sentiment_polarity  \\\n",
       "0         6.109244              15           0.627451           -0.085095   \n",
       "1         5.594915              36           0.542373            0.035867   \n",
       "2         5.490610              24           0.582160            0.133259   \n",
       "3         5.337423               7           0.631902            0.040568   \n",
       "4         5.484444               9           0.626667            0.165202   \n",
       "\n",
       "                           topic                      mood target_audience  \\\n",
       "0  [\"science fiction\", \"horror\"]      [\"dark\", \"dramatic\"]      [\"adults\"]   \n",
       "1           [\"mystery\", \"drama\"]                  [\"dark\"]      [\"adults\"]   \n",
       "2                      [\"drama\"]                  [\"dark\"]      [\"adults\"]   \n",
       "3       [\"fantasy\", \"adventure\"]         [\"inspirational\"]    [\"children\"]   \n",
       "4           [\"romance\", \"drama\"]  [\"romantic\", \"dramatic\"]      [\"adults\"]   \n",
       "\n",
       "  temporal_setting location_setting  \n",
       "0       [\"future\"]    [\"fictional\"]  \n",
       "1       [\"modern\"]         [\"real\"]  \n",
       "2       [\"modern\"]         [\"real\"]  \n",
       "3         [\"past\"]    [\"fictional\"]  \n",
       "4       [\"modern\"]         [\"real\"]  \n",
       "\n",
       "[5 rows x 22 columns]"
      ]
     },
     "execution_count": 2,
     "metadata": {},
     "output_type": "execute_result"
    }
   ],
   "source": [
    "plot_features = pd.read_csv('plot_features.csv')\n",
    "plot_features.head()"
   ]
  },
  {
   "cell_type": "code",
   "execution_count": 3,
   "id": "89fd5649-10d4-4b23-9315-d52c2d65d097",
   "metadata": {},
   "outputs": [
    {
     "data": {
      "text/plain": [
       "Index(['movie_wikipedia_id', 'movie_freebase_id', 'movie_name', 'release_year',\n",
       "       'revenue', 'runtime', 'languages', 'countries', 'genres',\n",
       "       'plot_summary', 'language', 'word_count', 'char_count',\n",
       "       'avg_word_length', 'sentence_count', 'lexical_diversity',\n",
       "       'sentiment_polarity', 'topic', 'mood', 'target_audience',\n",
       "       'temporal_setting', 'location_setting'],\n",
       "      dtype='object')"
      ]
     },
     "execution_count": 3,
     "metadata": {},
     "output_type": "execute_result"
    }
   ],
   "source": [
    "plot_features.columns"
   ]
  },
  {
   "cell_type": "code",
   "execution_count": 4,
   "id": "5016abec-ce08-4693-a1b6-3a5e5c97f78d",
   "metadata": {},
   "outputs": [],
   "source": [
    "plot_features[['languages', 'countries', 'genres', 'topic', 'mood', 'target_audience',\n",
    "       'temporal_setting', 'location_setting']] = plot_features[\n",
    "            ['languages', 'countries', 'genres', 'topic', 'mood', 'target_audience',\n",
    "       'temporal_setting', 'location_setting']\n",
    "    ].map(json.loads, na_action='ignore')"
   ]
  },
  {
   "cell_type": "code",
   "execution_count": 5,
   "id": "8be6788b-1c1a-4edc-98cf-2e9b6820690c",
   "metadata": {},
   "outputs": [],
   "source": [
    "plot_features[['languages', 'countries', 'genres']] = \\\n",
    "    plot_features[['languages', 'countries', 'genres']].map(\n",
    "        lambda x: [y.lower() for y in x.values()], na_action='ignore')"
   ]
  },
  {
   "cell_type": "code",
   "execution_count": 6,
   "id": "f1fcade1-0f05-413e-b36b-2bf3b9c253ae",
   "metadata": {},
   "outputs": [
    {
     "data": {
      "text/plain": [
       "{'action',\n",
       " 'adventure',\n",
       " 'comedy',\n",
       " 'conflict',\n",
       " 'drama',\n",
       " 'fantasy',\n",
       " 'historical',\n",
       " 'horror',\n",
       " 'mystery',\n",
       " 'romance',\n",
       " 'science fiction',\n",
       " 'tragedy'}"
      ]
     },
     "execution_count": 6,
     "metadata": {},
     "output_type": "execute_result"
    }
   ],
   "source": [
    "set(y for x in plot_features['topic'].dropna() for y in x)"
   ]
  },
  {
   "cell_type": "code",
   "execution_count": 7,
   "id": "9a14ec01-e490-4b63-8b06-c1537f38d978",
   "metadata": {},
   "outputs": [
    {
     "data": {
      "text/plain": [
       "{'conflict', 'historical', 'romance'}"
      ]
     },
     "execution_count": 7,
     "metadata": {},
     "output_type": "execute_result"
    }
   ],
   "source": [
    "set(y for x in plot_features['topic'].dropna() for y in x) - \\\n",
    "    set(y for x in plot_features['genres'].dropna() for y in x)"
   ]
  },
  {
   "cell_type": "markdown",
   "id": "97f892b6-d9eb-4f88-81a6-421981f8e28b",
   "metadata": {},
   "source": [
    "Topics are just genres. Let's merge them into genres"
   ]
  },
  {
   "cell_type": "code",
   "execution_count": 8,
   "id": "3b232e49-82e7-494f-a501-9b6c83dd87d0",
   "metadata": {},
   "outputs": [],
   "source": [
    "plot_features['genres'] = (plot_features['genres'] + plot_features['topic'])\\\n",
    "    .map(lambda x: list(set(x)), na_action='ignore')\n",
    "plot_features = plot_features.drop(columns='topic')"
   ]
  },
  {
   "cell_type": "code",
   "execution_count": 9,
   "id": "c68dc9ee-9187-49a6-90a5-7b1a1dd4cbff",
   "metadata": {},
   "outputs": [
    {
     "data": {
      "text/plain": [
       "array(['en'], dtype=object)"
      ]
     },
     "execution_count": 9,
     "metadata": {},
     "output_type": "execute_result"
    }
   ],
   "source": [
    "plot_features['language'].unique()"
   ]
  },
  {
   "cell_type": "code",
   "execution_count": 10,
   "id": "d3af3c99-849d-4fe5-9220-ae3276b1251f",
   "metadata": {},
   "outputs": [],
   "source": [
    "plot_features = plot_features.drop(columns='language')"
   ]
  },
  {
   "cell_type": "code",
   "execution_count": 11,
   "id": "ed086795-c10e-4293-8281-f23f278e3f41",
   "metadata": {},
   "outputs": [],
   "source": [
    "plot_features = plot_features[\n",
    "    ~plot_features[['genres', 'mood', 'target_audience', 'temporal_setting', 'location_setting']]\\\n",
    "    .isna().any(axis=1)]"
   ]
  },
  {
   "cell_type": "code",
   "execution_count": 12,
   "id": "a22b096b-ebf9-40d7-9fd8-00d47c676cef",
   "metadata": {},
   "outputs": [],
   "source": [
    "mood_values = set(y for x in plot_features['mood'].dropna() for y in x)\n",
    "target_audience_values = set(y for x in plot_features['target_audience'].dropna() for y in x)\n",
    "temporal_setting_values = set(y for x in plot_features['temporal_setting'].dropna() for y in x)\n",
    "location_setting_values = set(y for x in plot_features['location_setting'].dropna() for y in x)"
   ]
  },
  {
   "cell_type": "code",
   "execution_count": 13,
   "id": "2ae02b55-b040-4d17-8be9-ba8a8eaff0f3",
   "metadata": {},
   "outputs": [],
   "source": [
    "def count_llm_features(series, values):\n",
    "    count_dict = dict()\n",
    "    for value in values:\n",
    "        count_dict[value] = series.apply(lambda x: value in x).sum()\n",
    "    return dict(sorted(count_dict.items(), key=lambda x: -x[1]))"
   ]
  },
  {
   "cell_type": "code",
   "execution_count": 14,
   "id": "69614f46-2131-4836-8a48-982a050d3461",
   "metadata": {},
   "outputs": [
    {
     "data": {
      "text/plain": [
       "{'dramatic': 12960,\n",
       " 'dark': 10002,\n",
       " 'lighthearted': 5110,\n",
       " 'exciting': 3008,\n",
       " 'inspirational': 2902,\n",
       " 'romantic': 2216,\n",
       " 'fantastical': 421}"
      ]
     },
     "execution_count": 14,
     "metadata": {},
     "output_type": "execute_result"
    }
   ],
   "source": [
    "count_llm_features(plot_features['mood'], mood_values)"
   ]
  },
  {
   "cell_type": "code",
   "execution_count": 15,
   "id": "9587db50-7104-4ea1-b524-9efa248e7d3d",
   "metadata": {},
   "outputs": [
    {
     "data": {
      "text/plain": [
       "{'adults': 19930,\n",
       " 'families': 2127,\n",
       " 'teenagers': 2048,\n",
       " 'children': 1241,\n",
       " 'elderly': 16}"
      ]
     },
     "execution_count": 15,
     "metadata": {},
     "output_type": "execute_result"
    }
   ],
   "source": [
    "count_llm_features(plot_features['target_audience'], target_audience_values)"
   ]
  },
  {
   "cell_type": "code",
   "execution_count": 16,
   "id": "f17b2f35-a229-4b57-a93d-26d1755be084",
   "metadata": {},
   "outputs": [
    {
     "data": {
      "text/plain": [
       "{'modern': 16843, 'past': 7304, 'future': 562}"
      ]
     },
     "execution_count": 16,
     "metadata": {},
     "output_type": "execute_result"
    }
   ],
   "source": [
    "count_llm_features(plot_features['temporal_setting'], temporal_setting_values)"
   ]
  },
  {
   "cell_type": "code",
   "execution_count": 17,
   "id": "9c2f6704-e536-4ca2-bfec-821523c47abb",
   "metadata": {},
   "outputs": [
    {
     "data": {
      "text/plain": [
       "{'real': 20394, 'fictional': 4947}"
      ]
     },
     "execution_count": 17,
     "metadata": {},
     "output_type": "execute_result"
    }
   ],
   "source": [
    "count_llm_features(plot_features['location_setting'], location_setting_values)"
   ]
  },
  {
   "cell_type": "code",
   "execution_count": 24,
   "id": "8a850522-e77b-4a5d-a48c-cd6a23392215",
   "metadata": {},
   "outputs": [],
   "source": [
    "def create_cooccurrence_matrix(genres_series, feature_series):\n",
    "    \"\"\"\n",
    "    Create a co-occurrence matrix from two pandas series: one with genres and one with feature values.\n",
    "\n",
    "    Parameters:\n",
    "    genres_series (pd.Series): A series of lists where each list contains genres.\n",
    "    feature_series (pd.Series): A series of lists where each list contains feature values.\n",
    "\n",
    "    Returns:\n",
    "    pd.DataFrame: A DataFrame representing the co-occurrence matrix of genres and feature values.\n",
    "    \"\"\"\n",
    "    # Initialize a dictionary to hold the co-occurrence counts\n",
    "    cooccurrence_dict = {}\n",
    "\n",
    "    # Iterate over the series to populate the dictionary\n",
    "    for genres, feature_values in zip(genres_series, feature_series):\n",
    "        for genre in genres:\n",
    "            if genre not in cooccurrence_dict:\n",
    "                cooccurrence_dict[genre] = {}\n",
    "\n",
    "            for feature_value in feature_values:\n",
    "                if feature_value not in cooccurrence_dict[genre]:\n",
    "                    cooccurrence_dict[genre][feature_value] = 0\n",
    "                cooccurrence_dict[genre][feature_value] += 1\n",
    "\n",
    "    # Convert the dictionary to a DataFrame\n",
    "    cooccurrence_matrix = pd.DataFrame(cooccurrence_dict).fillna(0).astype(int)\n",
    "\n",
    "    # Reorder the matrix so that rows are features and columns are genres\n",
    "    cooccurrence_matrix = cooccurrence_matrix.T\n",
    "\n",
    "    return cooccurrence_matrix"
   ]
  },
  {
   "cell_type": "code",
   "execution_count": 28,
   "id": "91f0f3d2-33bb-4589-ae57-1a5c6f99e7c1",
   "metadata": {},
   "outputs": [],
   "source": [
    "def get_top_k_values(matrix, k, axis=0):\n",
    "    \"\"\"\n",
    "    For each row or column in the matrix, find the top k values and return them with their labels.\n",
    "\n",
    "    Parameters:\n",
    "    matrix (pd.DataFrame): The co-occurrence matrix.\n",
    "    k (int): The number of top values to return.\n",
    "    axis (int): 0 to find top values in each row, 1 for each column.\n",
    "\n",
    "    Returns:\n",
    "    dict: A dictionary with rows or columns as keys and a list of tuples as values,\n",
    "          where each tuple contains the label and the value of the top k items.\n",
    "    \"\"\"\n",
    "    top_k_values = {}\n",
    "    # Transpose the matrix if we are looking for top values in each column\n",
    "    if axis == 1:\n",
    "        matrix = matrix.T\n",
    "\n",
    "    # Iterate over the matrix rows/columns\n",
    "    for label, values in matrix.iterrows():\n",
    "        # Get the top k values with their labels\n",
    "        top_k = values.nlargest(k).items()\n",
    "        # Store them in the dictionary\n",
    "        top_k_values[label] = list(top_k)\n",
    "\n",
    "    return top_k_values"
   ]
  },
  {
   "cell_type": "code",
   "execution_count": 40,
   "id": "5904244e-876d-497d-8c47-fdb43b95f9f8",
   "metadata": {},
   "outputs": [
    {
     "data": {
      "text/html": [
       "<div>\n",
       "<style scoped>\n",
       "    .dataframe tbody tr th:only-of-type {\n",
       "        vertical-align: middle;\n",
       "    }\n",
       "\n",
       "    .dataframe tbody tr th {\n",
       "        vertical-align: top;\n",
       "    }\n",
       "\n",
       "    .dataframe thead th {\n",
       "        text-align: right;\n",
       "    }\n",
       "</style>\n",
       "<table border=\"1\" class=\"dataframe\">\n",
       "  <thead>\n",
       "    <tr style=\"text-align: right;\">\n",
       "      <th></th>\n",
       "      <th>dark</th>\n",
       "      <th>dramatic</th>\n",
       "      <th>exciting</th>\n",
       "      <th>inspirational</th>\n",
       "      <th>lighthearted</th>\n",
       "      <th>romantic</th>\n",
       "      <th>fantastical</th>\n",
       "    </tr>\n",
       "  </thead>\n",
       "  <tbody>\n",
       "    <tr>\n",
       "      <th>science fiction</th>\n",
       "      <td>949</td>\n",
       "      <td>799</td>\n",
       "      <td>811</td>\n",
       "      <td>123</td>\n",
       "      <td>258</td>\n",
       "      <td>59</td>\n",
       "      <td>180</td>\n",
       "    </tr>\n",
       "    <tr>\n",
       "      <th>space western</th>\n",
       "      <td>3</td>\n",
       "      <td>4</td>\n",
       "      <td>7</td>\n",
       "      <td>2</td>\n",
       "      <td>1</td>\n",
       "      <td>1</td>\n",
       "      <td>3</td>\n",
       "    </tr>\n",
       "    <tr>\n",
       "      <th>thriller</th>\n",
       "      <td>3380</td>\n",
       "      <td>2665</td>\n",
       "      <td>937</td>\n",
       "      <td>110</td>\n",
       "      <td>188</td>\n",
       "      <td>131</td>\n",
       "      <td>48</td>\n",
       "    </tr>\n",
       "    <tr>\n",
       "      <th>adventure</th>\n",
       "      <td>974</td>\n",
       "      <td>1855</td>\n",
       "      <td>1744</td>\n",
       "      <td>798</td>\n",
       "      <td>1511</td>\n",
       "      <td>267</td>\n",
       "      <td>285</td>\n",
       "    </tr>\n",
       "    <tr>\n",
       "      <th>action</th>\n",
       "      <td>2620</td>\n",
       "      <td>2827</td>\n",
       "      <td>2104</td>\n",
       "      <td>298</td>\n",
       "      <td>572</td>\n",
       "      <td>171</td>\n",
       "      <td>116</td>\n",
       "    </tr>\n",
       "    <tr>\n",
       "      <th>...</th>\n",
       "      <td>...</td>\n",
       "      <td>...</td>\n",
       "      <td>...</td>\n",
       "      <td>...</td>\n",
       "      <td>...</td>\n",
       "      <td>...</td>\n",
       "      <td>...</td>\n",
       "    </tr>\n",
       "    <tr>\n",
       "      <th>the netherlands in world war ii</th>\n",
       "      <td>0</td>\n",
       "      <td>1</td>\n",
       "      <td>0</td>\n",
       "      <td>1</td>\n",
       "      <td>0</td>\n",
       "      <td>0</td>\n",
       "      <td>0</td>\n",
       "    </tr>\n",
       "    <tr>\n",
       "      <th>period horror</th>\n",
       "      <td>1</td>\n",
       "      <td>1</td>\n",
       "      <td>0</td>\n",
       "      <td>0</td>\n",
       "      <td>0</td>\n",
       "      <td>0</td>\n",
       "      <td>0</td>\n",
       "    </tr>\n",
       "    <tr>\n",
       "      <th>revisionist fairy tale</th>\n",
       "      <td>0</td>\n",
       "      <td>1</td>\n",
       "      <td>2</td>\n",
       "      <td>1</td>\n",
       "      <td>1</td>\n",
       "      <td>0</td>\n",
       "      <td>1</td>\n",
       "    </tr>\n",
       "    <tr>\n",
       "      <th>film-opera</th>\n",
       "      <td>0</td>\n",
       "      <td>0</td>\n",
       "      <td>0</td>\n",
       "      <td>0</td>\n",
       "      <td>1</td>\n",
       "      <td>0</td>\n",
       "      <td>0</td>\n",
       "    </tr>\n",
       "    <tr>\n",
       "      <th>homoeroticism</th>\n",
       "      <td>1</td>\n",
       "      <td>1</td>\n",
       "      <td>0</td>\n",
       "      <td>0</td>\n",
       "      <td>0</td>\n",
       "      <td>0</td>\n",
       "      <td>0</td>\n",
       "    </tr>\n",
       "  </tbody>\n",
       "</table>\n",
       "<p>345 rows × 7 columns</p>\n",
       "</div>"
      ],
      "text/plain": [
       "                                 dark  dramatic  exciting  inspirational  \\\n",
       "science fiction                   949       799       811            123   \n",
       "space western                       3         4         7              2   \n",
       "thriller                         3380      2665       937            110   \n",
       "adventure                         974      1855      1744            798   \n",
       "action                           2620      2827      2104            298   \n",
       "...                               ...       ...       ...            ...   \n",
       "the netherlands in world war ii     0         1         0              1   \n",
       "period horror                       1         1         0              0   \n",
       "revisionist fairy tale              0         1         2              1   \n",
       "film-opera                          0         0         0              0   \n",
       "homoeroticism                       1         1         0              0   \n",
       "\n",
       "                                 lighthearted  romantic  fantastical  \n",
       "science fiction                           258        59          180  \n",
       "space western                               1         1            3  \n",
       "thriller                                  188       131           48  \n",
       "adventure                                1511       267          285  \n",
       "action                                    572       171          116  \n",
       "...                                       ...       ...          ...  \n",
       "the netherlands in world war ii             0         0            0  \n",
       "period horror                               0         0            0  \n",
       "revisionist fairy tale                      1         0            1  \n",
       "film-opera                                  1         0            0  \n",
       "homoeroticism                               0         0            0  \n",
       "\n",
       "[345 rows x 7 columns]"
      ]
     },
     "execution_count": 40,
     "metadata": {},
     "output_type": "execute_result"
    }
   ],
   "source": [
    "create_cooccurrence_matrix(plot_features['genres'], plot_features['mood'])"
   ]
  },
  {
   "cell_type": "code",
   "execution_count": 44,
   "id": "dd42f750-0af9-419d-90a9-a645e9effdf4",
   "metadata": {},
   "outputs": [],
   "source": [
    "# get_top_k_values(create_cooccurrence_matrix(plot_features['genres'], plot_features['mood']), 5, 0)"
   ]
  }
 ],
 "metadata": {
  "kernelspec": {
   "display_name": "Python 3 (ipykernel)",
   "language": "python",
   "name": "python3"
  },
  "language_info": {
   "codemirror_mode": {
    "name": "ipython",
    "version": 3
   },
   "file_extension": ".py",
   "mimetype": "text/x-python",
   "name": "python",
   "nbconvert_exporter": "python",
   "pygments_lexer": "ipython3",
   "version": "3.11.6"
  }
 },
 "nbformat": 4,
 "nbformat_minor": 5
}
