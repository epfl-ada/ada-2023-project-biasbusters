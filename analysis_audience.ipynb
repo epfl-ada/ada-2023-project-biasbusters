{
 "cells": [
  {
   "cell_type": "code",
   "execution_count": 92,
   "metadata": {},
   "outputs": [],
   "source": [
    "import pandas as pd\n",
    "import numpy as np\n",
    "import plotly\n",
    "import dataset\n",
    "import statsmodels as sts\n",
    "import matplotlib.pyplot as plt"
   ]
  },
  {
   "cell_type": "markdown",
   "metadata": {},
   "source": [
    "# Dataset Loading"
   ]
  },
  {
   "cell_type": "markdown",
   "metadata": {},
   "source": [
    "Keep only necessary dataset(s)"
   ]
  },
  {
   "cell_type": "code",
   "execution_count": 75,
   "metadata": {},
   "outputs": [
    {
     "name": "stderr",
     "output_type": "stream",
     "text": [
      "/Users/hanskristianbjorgokvaerum/EPFL/ADA/ada-2023-project-biasbusters/dataset.py:28: DtypeWarning: Columns (4) have mixed types. Specify dtype option on import or set low_memory=False.\n",
      "  imdb_title_basics = pd.read_csv('Data/imdb/title.basics.tsv', sep='\\t')\n"
     ]
    }
   ],
   "source": [
    "augmented_cmu = dataset.get_augmented_cmu()\n",
    "imdb_df = dataset.get_imdb_dataset()"
   ]
  },
  {
   "cell_type": "markdown",
   "metadata": {},
   "source": [
    "### Community Labels"
   ]
  },
  {
   "cell_type": "code",
   "execution_count": 76,
   "metadata": {},
   "outputs": [],
   "source": [
    "community_dict = {0:'Romantic Movies & Social Commentary (C0)', 1:'Diverse Drama & Action (C1)', 2:'Lighthearted Entertainment (C2)', 3:'Dark & Suspenseful Fiction (C3)', 4:'Historical & Cultural Narratives (C4)'}\n",
    "\n",
    "movie_community = pd.read_csv('Output/cmu_community_assignment.csv').drop(columns=['Unnamed: 0'])\n",
    "movie_community['community_label'] = movie_community['hard_assignment'].apply(lambda x: community_dict.get(x))\n",
    "cmu_community = pd.merge(left=augmented_cmu, right=movie_community, on='movie_wikipedia_id', how='inner')"
   ]
  },
  {
   "cell_type": "markdown",
   "metadata": {},
   "source": [
    "Get community assignments and labels"
   ]
  },
  {
   "cell_type": "markdown",
   "metadata": {},
   "source": [
    "### Customize Dataset\n",
    "\n",
    "To prevent merge errors later, we should always initialize the dataset used in this way. Then, everything below this cell is \"guaranteed\" to run."
   ]
  },
  {
   "cell_type": "markdown",
   "metadata": {},
   "source": [
    "##### Box Office Mojo Revenue Data\n",
    "\n",
    "Source: scraped"
   ]
  },
  {
   "cell_type": "code",
   "execution_count": 77,
   "metadata": {},
   "outputs": [],
   "source": [
    "boxofficemojo = dataset.get_boxofficemojo_dataset()\n",
    "boxofficemojo = boxofficemojo[['imdb_id', 'budget', 'performance_worldwide']]\n",
    "boxofficemojo.columns = ['imdb_id', 'budget', 'revenue']\n",
    "boxofficemojo = boxofficemojo[(boxofficemojo['budget'].notnull()) | (boxofficemojo['revenue'].notnull())].reset_index(drop=True)\n",
    "boxofficemojo = boxofficemojo.replace(np.nan, 0.0)"
   ]
  },
  {
   "cell_type": "markdown",
   "metadata": {},
   "source": [
    "##### Kaggle Movie Revenue Data\n",
    "\n",
    "Source: https://www.kaggle.com/datasets/rounakbanik/the-movies-dataset"
   ]
  },
  {
   "cell_type": "code",
   "execution_count": 78,
   "metadata": {},
   "outputs": [
    {
     "name": "stderr",
     "output_type": "stream",
     "text": [
      "/var/folders/kd/klmddjb57sdc63rvm8msngwh0000gn/T/ipykernel_64973/2373454128.py:1: DtypeWarning: Columns (10) have mixed types. Specify dtype option on import or set low_memory=False.\n",
      "  kaggle_movie = pd.read_csv('Data/kaggle_movies_dataset/movies_metadata.csv')\n"
     ]
    }
   ],
   "source": [
    "kaggle_movie = pd.read_csv('Data/kaggle_movies_dataset/movies_metadata.csv')\n",
    "kaggle_movie = kaggle_movie[['imdb_id', 'budget', 'revenue']]\n",
    "kaggle_movie['budget'] = kaggle_movie['budget'].apply(lambda x: float(x) if isinstance(x, int) or isinstance(x, float) or x.isdigit() else 0)\n",
    "kaggle_movie['revenue'] = kaggle_movie['revenue'].apply(lambda x: float(x) if isinstance(x, int) or isinstance(x, float) or x.isdigit() else 0)\n",
    "kaggle_movie = kaggle_movie[(kaggle_movie['budget'] > 0.0) |(kaggle_movie['revenue'] > 0.0)].reset_index(drop=True)"
   ]
  },
  {
   "cell_type": "markdown",
   "metadata": {},
   "source": [
    "##### CMU Revenue Data\n",
    "\n",
    "Source: CMU Movie Corpus Dataset"
   ]
  },
  {
   "cell_type": "code",
   "execution_count": 79,
   "metadata": {},
   "outputs": [],
   "source": [
    "revenue_df = augmented_cmu[['imdb_id', 'revenue']]\n",
    "revenue_df.columns = ['imdb_id', 'revenue_z']\n",
    "revenue_df = revenue_df[revenue_df['revenue_z'].notnull()]"
   ]
  },
  {
   "cell_type": "markdown",
   "metadata": {},
   "source": [
    "##### Merging Revenue Data"
   ]
  },
  {
   "cell_type": "code",
   "execution_count": 80,
   "metadata": {},
   "outputs": [],
   "source": [
    "# @Function: get prioritized revenue -> Box Office Mojo > Kaggle > CMU\n",
    "def get_revenue(x):\n",
    "    # Box Office Mojo -> most recent data\n",
    "    if x.get('revenue_x') != 0.0:\n",
    "        return x.get('revenue_x')\n",
    "    # Kaggle Movie Dataset -> updated 2019\n",
    "    elif x.get('revenue_y') != 0.0:\n",
    "        return x.get('revenue_y')\n",
    "    # CMU revenue data -> from 2015\n",
    "    elif x.get('revenue_z') != 0.0:\n",
    "        return x.get('revenue_z')\n",
    "    # Did not find revenue\n",
    "    return 0.0\n",
    "    \n",
    "# @Function: get prioritized revenue -> Box Office Mojo > Kaggle > CMU\n",
    "def get_budget(x):\n",
    "    # Box Office Mojo -> most recent data\n",
    "    if x.get('budget_x') != 0.0:\n",
    "        return x.get('budget_x')\n",
    "    # Kaggle Movie Dataset -> updated 2019\n",
    "    elif x.get('budget_y') != 0.0:\n",
    "        return x.get('budget_y')\n",
    "    # Did not find revenue\n",
    "    return 0.0"
   ]
  },
  {
   "cell_type": "code",
   "execution_count": 81,
   "metadata": {},
   "outputs": [],
   "source": [
    "xrevenue = pd.merge(left=boxofficemojo, right=kaggle_movie, on='imdb_id', how='outer')\n",
    "xrevenue = pd.merge(left=xrevenue, right=revenue_df, on='imdb_id', how='outer')\n",
    "xrevenue = xrevenue.replace(np.nan, 0.0)\n",
    "\n",
    "xrevenue['revenue'] = xrevenue.apply(get_revenue, axis=1)\n",
    "xrevenue['budget'] = xrevenue.apply(get_budget, axis=1)\n",
    "\n",
    "xrevenue = xrevenue[['imdb_id', 'budget', 'revenue']]"
   ]
  },
  {
   "cell_type": "code",
   "execution_count": 91,
   "metadata": {},
   "outputs": [],
   "source": [
    "revenue_df = cmu_community.copy()[['imdb_id', 'imdb_name', 'hard_assignment', 'runtime','languages','countries','plot_summary','word_count','char_count',\n",
    "                                  'avg_word_length','sentence_count','lexical_diversity','sentiment_polarity','topic','mood',\n",
    "                                  'target_audience','temporal_setting','location_setting',\n",
    "                                  ]]\n",
    "revenue_df['community_labels'] = revenue_df['hard_assignment'].apply(lambda x: community_dict.get(x))\n",
    "\n",
    "# MERGE FOR IMDB DATASET\n",
    "revenue_df = pd.merge(left=revenue_df, right=imdb_df, how='inner', on='imdb_id')\n",
    "\n",
    "# MERGE FOR REVENUE\n",
    "revenue_df = pd.merge(left=revenue_df, right=xrevenue, how='inner', on='imdb_id')"
   ]
  },
  {
   "cell_type": "markdown",
   "metadata": {},
   "source": [
    "# Basic Visualizations\n",
    "\n",
    "Some basic dataviz to illustrate distributions, label counts, etc. Just to describe the dataset"
   ]
  },
  {
   "cell_type": "code",
   "execution_count": 94,
   "metadata": {},
   "outputs": [
    {
     "data": {
      "text/plain": [
       "(7796, 29)"
      ]
     },
     "execution_count": 94,
     "metadata": {},
     "output_type": "execute_result"
    }
   ],
   "source": []
  },
  {
   "cell_type": "markdown",
   "metadata": {},
   "source": [
    "# Plot Feature Analysis\n",
    "\n",
    "Here, we can hopefully include some of the work done by the russians"
   ]
  },
  {
   "cell_type": "code",
   "execution_count": 84,
   "metadata": {},
   "outputs": [],
   "source": [
    "# Insert code here"
   ]
  },
  {
   "cell_type": "markdown",
   "metadata": {},
   "source": [
    "# Map Plotting\n",
    "\n",
    "Define and describe plot"
   ]
  },
  {
   "cell_type": "code",
   "execution_count": 85,
   "metadata": {},
   "outputs": [],
   "source": [
    "# Insert code here"
   ]
  },
  {
   "cell_type": "markdown",
   "metadata": {},
   "source": [
    "# Hypothesis Testing\n",
    "\n",
    "Define and complete hypothesis testing"
   ]
  },
  {
   "cell_type": "code",
   "execution_count": 86,
   "metadata": {},
   "outputs": [],
   "source": [
    "# Insert code here"
   ]
  },
  {
   "cell_type": "markdown",
   "metadata": {},
   "source": []
  }
 ],
 "metadata": {
  "kernelspec": {
   "display_name": "ada",
   "language": "python",
   "name": "python3"
  },
  "language_info": {
   "codemirror_mode": {
    "name": "ipython",
    "version": 3
   },
   "file_extension": ".py",
   "mimetype": "text/x-python",
   "name": "python",
   "nbconvert_exporter": "python",
   "pygments_lexer": "ipython3",
   "version": "3.9.18"
  }
 },
 "nbformat": 4,
 "nbformat_minor": 2
}
