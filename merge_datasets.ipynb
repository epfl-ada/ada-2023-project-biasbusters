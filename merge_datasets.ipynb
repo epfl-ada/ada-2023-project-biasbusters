{
 "cells": [
  {
   "cell_type": "code",
   "execution_count": 1,
   "id": "b99f396c-f284-4015-b7dd-82843f3eeebe",
   "metadata": {},
   "outputs": [],
   "source": [
    "import pandas as pd\n",
    "import numpy as np\n",
    "import statsmodels as sts\n",
    "import matplotlib.pyplot as plt\n",
    "from textblob import TextBlob\n",
    "import nltk\n",
    "from concurrent.futures import ThreadPoolExecutor, as_completed\n",
    "import seaborn as sns\n",
    "import os"
   ]
  },
  {
   "cell_type": "code",
   "execution_count": 2,
   "id": "5bc47aeb-646e-404b-a6d3-8b6caa09f0bf",
   "metadata": {},
   "outputs": [],
   "source": [
    "movie_metadata_path = './Data/movie.metadata.tsv'\n",
    "plot_summaries_path = './Data/plot_summaries.txt'"
   ]
  },
  {
   "cell_type": "code",
   "execution_count": 3,
   "id": "1c058719-871f-4081-b85c-6ca8c642c6a2",
   "metadata": {},
   "outputs": [],
   "source": [
    "movie_metadata = pd.read_csv(\n",
    "    movie_metadata_path, sep='\\t', header=None, \n",
    "    names=[\n",
    "        'movie_wikipedia_id', 'movie_freebase_id', 'movie_name', \n",
    "        'release_date', 'revenue', 'runtime', 'languages', 'countries', 'genres'\n",
    "    ]\n",
    ")\n",
    "\n",
    "plot_summaries = pd.read_csv(\n",
    "    plot_summaries_path, sep='\\t', header=None, names=['movie_wikipedia_id', 'plot_summary'])"
   ]
  },
  {
   "cell_type": "code",
   "execution_count": 4,
   "id": "69540bf1-4df7-428b-be1a-c4a20c0a4468",
   "metadata": {},
   "outputs": [],
   "source": [
    "cmu_merged = pd.merge(movie_metadata, plot_summaries, on='movie_wikipedia_id')"
   ]
  },
  {
   "cell_type": "code",
   "execution_count": 5,
   "id": "9ebb4d52-605c-4248-9316-acf46da63f8f",
   "metadata": {},
   "outputs": [
    {
     "data": {
      "text/plain": [
       "39914"
      ]
     },
     "execution_count": 5,
     "metadata": {},
     "output_type": "execute_result"
    }
   ],
   "source": [
    "len(cmu_merged['movie_name'].unique())"
   ]
  },
  {
   "cell_type": "markdown",
   "id": "9fa8abb9-c6df-47e0-8ee4-3a9e1dd9802c",
   "metadata": {},
   "source": [
    "# Reviews"
   ]
  },
  {
   "cell_type": "markdown",
   "id": "e6ca1334-9247-4a2e-b33c-243f1884c139",
   "metadata": {},
   "source": [
    "The most overlap with CMU movies provides IMDB dataset from their website https://developer.imdb.com/non-commercial-datasets/"
   ]
  },
  {
   "cell_type": "markdown",
   "id": "8708677b-fd57-448a-b152-bd0fdc4f2892",
   "metadata": {},
   "source": [
    "Let's download and unpack corresponding files (they are ~300 MB)"
   ]
  },
  {
   "cell_type": "code",
   "execution_count": 6,
   "id": "9f4f8251-ec2c-437f-a5c0-f4930437d719",
   "metadata": {},
   "outputs": [],
   "source": [
    "if not os.path.isdir('imdb'):\n",
    "    os.mkdir('imdb')"
   ]
  },
  {
   "cell_type": "code",
   "execution_count": 7,
   "id": "29cfc29f-c217-4527-88d7-921e6b6d7375",
   "metadata": {},
   "outputs": [],
   "source": [
    "%%capture\n",
    "!wget -P imdb https://datasets.imdbws.com/title.basics.tsv.gz\n",
    "!wget -P imdb https://datasets.imdbws.com/title.ratings.tsv.gz\n",
    "\n",
    "!gunzip imdb/title.basics.tsv.gz\n",
    "!gunzip imdb/title.ratings.tsv.gz"
   ]
  },
  {
   "cell_type": "code",
   "execution_count": 8,
   "id": "f44f4189-30cf-455a-b0ea-f67337c59215",
   "metadata": {},
   "outputs": [
    {
     "name": "stderr",
     "output_type": "stream",
     "text": [
      "/var/folders/_s/zcd4d6nj55j53lv8b01ng45w0000gn/T/ipykernel_64379/371511669.py:1: DtypeWarning: Columns (4) have mixed types. Specify dtype option on import or set low_memory=False.\n",
      "  imdb_title_basics = pd.read_csv('imdb/title.basics.tsv', sep='\\t')\n"
     ]
    }
   ],
   "source": [
    "imdb_title_basics = pd.read_csv('imdb/title.basics.tsv', sep='\\t')\n",
    "imdb_title_ratings = pd.read_csv('imdb/title.ratings.tsv', sep='\\t')"
   ]
  },
  {
   "cell_type": "code",
   "execution_count": 9,
   "id": "248f9bc6-f098-4353-a04c-00b75c65b088",
   "metadata": {},
   "outputs": [],
   "source": [
    "imdb_title_basics = imdb_title_basics[['tconst', 'primaryTitle']]"
   ]
  },
  {
   "cell_type": "code",
   "execution_count": 10,
   "id": "f8b1eae5-1e79-41a9-96ce-c39f49138c58",
   "metadata": {},
   "outputs": [],
   "source": [
    "imdb_merged = pd.merge(imdb_title_ratings, imdb_title_basics, on='tconst')\n",
    "imdb_merged = imdb_merged.drop(columns=['tconst']).drop_duplicates(subset=['primaryTitle'])"
   ]
  },
  {
   "cell_type": "code",
   "execution_count": 11,
   "id": "3ca1131d-6dd6-40fa-a9ff-db87f2b367bd",
   "metadata": {},
   "outputs": [],
   "source": [
    "cmu_with_reviews = pd.merge(imdb_merged, cmu_merged, left_on='primaryTitle', right_on='movie_name', how='right')\n",
    "cmu_with_reviews = cmu_with_reviews.drop(columns=['primaryTitle'])"
   ]
  },
  {
   "cell_type": "code",
   "execution_count": 12,
   "id": "a52432d1-f253-4528-aff7-d0a62915c4c8",
   "metadata": {},
   "outputs": [
    {
     "name": "stdout",
     "output_type": "stream",
     "text": [
      "We have average IMDB rating for 82% of films\n"
     ]
    }
   ],
   "source": [
    "notna_rating_frac = cmu_with_reviews['averageRating'].notna().mean()\n",
    "print(f'We have average IMDB rating for {notna_rating_frac * 100:.0f}% of films')"
   ]
  },
  {
   "cell_type": "markdown",
   "id": "54d7a6e6-e2a4-440e-9ca9-462ea698f037",
   "metadata": {},
   "source": [
    "# Budgets & Revenue"
   ]
  },
  {
   "cell_type": "code",
   "execution_count": 13,
   "id": "f7c23985-f564-4bec-a3a8-54931acacc14",
   "metadata": {},
   "outputs": [
    {
     "name": "stderr",
     "output_type": "stream",
     "text": [
      "/var/folders/_s/zcd4d6nj55j53lv8b01ng45w0000gn/T/ipykernel_64379/419839048.py:1: DtypeWarning: Columns (10) have mixed types. Specify dtype option on import or set low_memory=False.\n",
      "  bdgts = pd.read_csv(\"movies_metadata.csv\")\n"
     ]
    }
   ],
   "source": [
    "bdgts = pd.read_csv(\"movies_metadata.csv\")\n",
    "bdgts = bdgts[['budget', 'revenue', 'original_title']]\n",
    "\n",
    "bdgts[\"budget\"] = pd.to_numeric(bdgts['budget'], errors='coerce')\n",
    "bdgts.dropna(subset=['budget'], inplace=True)"
   ]
  },
  {
   "cell_type": "code",
   "execution_count": 14,
   "id": "4fcdd6c4-ca8f-4a4e-aead-4327a956af21",
   "metadata": {},
   "outputs": [],
   "source": [
    "cmu_with_budgets = pd.merge(\n",
    "    cmu_with_reviews, bdgts, left_on='movie_name', right_on='original_title', how='left') \n",
    "\n",
    "cmu_with_budgets['revenue'] = np.where(\n",
    "    cmu_with_budgets['revenue_x'].notna(), \n",
    "    cmu_with_budgets['revenue_x'], \n",
    "    cmu_with_budgets['revenue_y']\n",
    ")\n",
    "\n",
    "cmu_with_budgets.drop(columns=['revenue_x', 'revenue_y'], inplace=True)"
   ]
  },
  {
   "cell_type": "code",
   "execution_count": 15,
   "id": "33ba8f34-3a2c-4b08-bef2-f26c60905ce1",
   "metadata": {},
   "outputs": [
    {
     "name": "stdout",
     "output_type": "stream",
     "text": [
      "We have average IMDB rating for 49% of films\n"
     ]
    }
   ],
   "source": [
    "notna_revenue_frac = cmu_with_budgets['revenue'].notna().mean()\n",
    "print(f'We have average IMDB rating for {notna_revenue_frac * 100:.0f}% of films')"
   ]
  },
  {
   "cell_type": "code",
   "execution_count": 16,
   "id": "ede80fd9-b8f9-4672-a57d-fca8b9ef78e1",
   "metadata": {},
   "outputs": [
    {
     "name": "stdout",
     "output_type": "stream",
     "text": [
      "We have average IMDB rating for 46% of films\n"
     ]
    }
   ],
   "source": [
    "notna_budget_frac = cmu_with_budgets['budget'].notna().mean()\n",
    "print(f'We have average IMDB rating for {notna_budget_frac * 100:.0f}% of films')"
   ]
  }
 ],
 "metadata": {
  "kernelspec": {
   "display_name": "Python 3 (ipykernel)",
   "language": "python",
   "name": "python3"
  },
  "language_info": {
   "codemirror_mode": {
    "name": "ipython",
    "version": 3
   },
   "file_extension": ".py",
   "mimetype": "text/x-python",
   "name": "python",
   "nbconvert_exporter": "python",
   "pygments_lexer": "ipython3",
   "version": "3.11.6"
  }
 },
 "nbformat": 4,
 "nbformat_minor": 5
}
