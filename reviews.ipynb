{
 "cells": [
  {
   "cell_type": "code",
   "execution_count": 1,
   "id": "9ec0e582-cefb-47b2-8241-aeaecca8a51d",
   "metadata": {},
   "outputs": [],
   "source": [
    "import pandas as pd"
   ]
  },
  {
   "cell_type": "code",
   "execution_count": 2,
   "id": "6bf0e30b-e033-4b3a-a003-3f04b1f91157",
   "metadata": {},
   "outputs": [],
   "source": [
    "movie_metadata_path = './Data/movie.metadata.tsv'\n",
    "plot_summaries_path = './Data/plot_summaries.txt'"
   ]
  },
  {
   "cell_type": "code",
   "execution_count": 3,
   "id": "ef480956-9fe0-4553-ae01-dda816d544de",
   "metadata": {},
   "outputs": [],
   "source": [
    "movie_metadata = pd.read_csv(\n",
    "    movie_metadata_path, sep='\\t', header=None, \n",
    "    names=[\n",
    "        'movie_wikipedia_id', 'movie_freebase_id', 'movie_name', \n",
    "        'release_date', 'revenue', 'runtime', 'languages', 'countries', 'genres'\n",
    "    ]\n",
    ")\n",
    "\n",
    "plot_summaries = pd.read_csv(\n",
    "    plot_summaries_path, sep='\\t', header=None, names=['movie_wikipedia_id', 'plot_summary'])"
   ]
  },
  {
   "cell_type": "code",
   "execution_count": 4,
   "id": "b200e10e-a2ff-4cc1-a616-aceb89f81c22",
   "metadata": {},
   "outputs": [],
   "source": [
    "cmu_merged = pd.merge(movie_metadata, plot_summaries, on='movie_wikipedia_id')"
   ]
  },
  {
   "cell_type": "code",
   "execution_count": 5,
   "id": "74c8f66c-9a73-4f82-9a24-0dea80f6f091",
   "metadata": {},
   "outputs": [
    {
     "data": {
      "text/plain": [
       "39914"
      ]
     },
     "execution_count": 5,
     "metadata": {},
     "output_type": "execute_result"
    }
   ],
   "source": [
    "len(cmu_merged['movie_name'].unique())"
   ]
  },
  {
   "cell_type": "markdown",
   "id": "672e4fbc-353f-464e-9399-e5e9dcb93cd2",
   "metadata": {},
   "source": [
    "We have 40K unique films with plots. Let's try to join it with external datasets with reviews"
   ]
  },
  {
   "cell_type": "markdown",
   "id": "e0c9d766-1505-4698-beb3-201cd0ec0bdc",
   "metadata": {},
   "source": [
    "# Review datasets"
   ]
  },
  {
   "cell_type": "markdown",
   "id": "1d58ff84-8ffb-47c3-9184-e933c94dcf4f",
   "metadata": {},
   "source": [
    "## IMDB 50K"
   ]
  },
  {
   "cell_type": "markdown",
   "id": "f4350965-4e47-4173-b61a-49a99d38263f",
   "metadata": {},
   "source": [
    "https://www.kaggle.com/datasets/lakshmi25npathi/imdb-dataset-of-50k-movie-reviews"
   ]
  },
  {
   "cell_type": "markdown",
   "id": "3f5db662-7a0c-4f83-b586-23d16270c6e4",
   "metadata": {},
   "source": [
    "It doesn't have movie name, so we cannot merge :("
   ]
  },
  {
   "cell_type": "markdown",
   "id": "b1aef1ff-82a1-4027-bd18-ee3a61aa1f89",
   "metadata": {},
   "source": [
    "## Movie lens"
   ]
  },
  {
   "cell_type": "markdown",
   "id": "2bf16041-c24c-4b37-8a2f-3d25164fba76",
   "metadata": {},
   "source": [
    "https://www.kaggle.com/datasets/grouplens/movielens-20m-dataset?select=rating.csv"
   ]
  },
  {
   "cell_type": "code",
   "execution_count": 6,
   "id": "03b6835f-06e2-45d7-906e-98a05577f9aa",
   "metadata": {},
   "outputs": [],
   "source": [
    "import re"
   ]
  },
  {
   "cell_type": "code",
   "execution_count": 7,
   "id": "1cfccb97-a828-411c-bc66-eb9b98a7ccb6",
   "metadata": {},
   "outputs": [],
   "source": [
    "movielens_movies = pd.read_csv('movie_lens/movie.csv')\n",
    "movielens_ratings = pd.read_csv('movie_lens/rating.csv')"
   ]
  },
  {
   "cell_type": "code",
   "execution_count": 8,
   "id": "18f19de3-6cc1-43ab-8fd7-7bb85be171f0",
   "metadata": {},
   "outputs": [],
   "source": [
    "movielens_mean_ratings = movielens_ratings.groupby('movieId', as_index=False)['rating'].mean()"
   ]
  },
  {
   "cell_type": "code",
   "execution_count": 9,
   "id": "c3e1c7ae-d1ef-4d5a-888d-f0f86d616fae",
   "metadata": {},
   "outputs": [],
   "source": [
    "movielens_merged = pd.merge(movielens_mean_ratings, movielens_movies, on='movieId')\n",
    "movielens_merged = movielens_merged.drop(columns=['movieId', 'genres'])"
   ]
  },
  {
   "cell_type": "code",
   "execution_count": 10,
   "id": "24511dcb-2c0d-4465-adf7-058cf2c4c91b",
   "metadata": {},
   "outputs": [
    {
     "data": {
      "text/plain": [
       "26744"
      ]
     },
     "execution_count": 10,
     "metadata": {},
     "output_type": "execute_result"
    }
   ],
   "source": [
    "len(movielens_merged)"
   ]
  },
  {
   "cell_type": "code",
   "execution_count": 11,
   "id": "2a928990-bd7d-48eb-ada7-9c7e82f35b55",
   "metadata": {},
   "outputs": [],
   "source": [
    "pattern = re.compile(r' \\(\\d{4}\\)')\n",
    "\n",
    "def remove_year(title):\n",
    "    return pattern.sub('', title)\n",
    "\n",
    "movielens_merged['title_without_year'] = movielens_merged['title'].apply(remove_year)"
   ]
  },
  {
   "cell_type": "code",
   "execution_count": 12,
   "id": "d954d8ee-39c4-46de-bdab-a48c9185a5dc",
   "metadata": {},
   "outputs": [
    {
     "data": {
      "text/plain": [
       "12361"
      ]
     },
     "execution_count": 12,
     "metadata": {},
     "output_type": "execute_result"
    }
   ],
   "source": [
    "len(pd.merge(movielens_merged, cmu_merged, left_on='title_without_year', right_on='movie_name'))"
   ]
  },
  {
   "cell_type": "markdown",
   "id": "77ddb204-b98c-42e5-bbd0-da9c877df70f",
   "metadata": {},
   "source": [
    "We can join only 12K films out of 40K in CMU :("
   ]
  },
  {
   "cell_type": "markdown",
   "id": "3d79662c-764d-4c69-8887-c6fd63d6e924",
   "metadata": {},
   "source": [
    "## IMDB from website"
   ]
  },
  {
   "cell_type": "markdown",
   "id": "2466e66a-95b0-48ae-bff8-963049d9b845",
   "metadata": {},
   "source": [
    "https://developer.imdb.com/non-commercial-datasets/"
   ]
  },
  {
   "cell_type": "code",
   "execution_count": 13,
   "id": "1916b89c-d732-4429-a6ec-80839a85729a",
   "metadata": {},
   "outputs": [
    {
     "name": "stderr",
     "output_type": "stream",
     "text": [
      "/var/folders/_s/zcd4d6nj55j53lv8b01ng45w0000gn/T/ipykernel_50391/371511669.py:1: DtypeWarning: Columns (4) have mixed types. Specify dtype option on import or set low_memory=False.\n",
      "  imdb_title_basics = pd.read_csv('imdb/title.basics.tsv', sep='\\t')\n"
     ]
    }
   ],
   "source": [
    "imdb_title_basics = pd.read_csv('imdb/title.basics.tsv', sep='\\t')\n",
    "imdb_title_ratings = pd.read_csv('imdb/title.ratings.tsv', sep='\\t')"
   ]
  },
  {
   "cell_type": "code",
   "execution_count": 14,
   "id": "757ae4e1-f1dc-4bab-8f9b-d8deb1d69be6",
   "metadata": {},
   "outputs": [
    {
     "data": {
      "text/html": [
       "<div>\n",
       "<style scoped>\n",
       "    .dataframe tbody tr th:only-of-type {\n",
       "        vertical-align: middle;\n",
       "    }\n",
       "\n",
       "    .dataframe tbody tr th {\n",
       "        vertical-align: top;\n",
       "    }\n",
       "\n",
       "    .dataframe thead th {\n",
       "        text-align: right;\n",
       "    }\n",
       "</style>\n",
       "<table border=\"1\" class=\"dataframe\">\n",
       "  <thead>\n",
       "    <tr style=\"text-align: right;\">\n",
       "      <th></th>\n",
       "      <th>tconst</th>\n",
       "      <th>titleType</th>\n",
       "      <th>primaryTitle</th>\n",
       "      <th>originalTitle</th>\n",
       "      <th>isAdult</th>\n",
       "      <th>startYear</th>\n",
       "      <th>endYear</th>\n",
       "      <th>runtimeMinutes</th>\n",
       "      <th>genres</th>\n",
       "    </tr>\n",
       "  </thead>\n",
       "  <tbody>\n",
       "    <tr>\n",
       "      <th>6805769</th>\n",
       "      <td>tt28308058</td>\n",
       "      <td>short</td>\n",
       "      <td>Strained Brakes</td>\n",
       "      <td>Pinnat Kireenä</td>\n",
       "      <td>0</td>\n",
       "      <td>2023</td>\n",
       "      <td>\\N</td>\n",
       "      <td>24</td>\n",
       "      <td>Action,Comedy,Short</td>\n",
       "    </tr>\n",
       "    <tr>\n",
       "      <th>4391169</th>\n",
       "      <td>tt1638945</td>\n",
       "      <td>video</td>\n",
       "      <td>Shame</td>\n",
       "      <td>Zonde</td>\n",
       "      <td>0</td>\n",
       "      <td>2010</td>\n",
       "      <td>\\N</td>\n",
       "      <td>61</td>\n",
       "      <td>Comedy,Drama,Romance</td>\n",
       "    </tr>\n",
       "    <tr>\n",
       "      <th>5876905</th>\n",
       "      <td>tt2309770</td>\n",
       "      <td>movie</td>\n",
       "      <td>Fascination Galapagos 3D</td>\n",
       "      <td>Faszination Galapagos</td>\n",
       "      <td>0</td>\n",
       "      <td>2012</td>\n",
       "      <td>\\N</td>\n",
       "      <td>\\N</td>\n",
       "      <td>Documentary</td>\n",
       "    </tr>\n",
       "    <tr>\n",
       "      <th>221010</th>\n",
       "      <td>tt0230794</td>\n",
       "      <td>movie</td>\n",
       "      <td>Locksmith and Chancellor</td>\n",
       "      <td>Slesar i kantsler</td>\n",
       "      <td>0</td>\n",
       "      <td>1924</td>\n",
       "      <td>\\N</td>\n",
       "      <td>54</td>\n",
       "      <td>Drama</td>\n",
       "    </tr>\n",
       "    <tr>\n",
       "      <th>6206811</th>\n",
       "      <td>tt25786454</td>\n",
       "      <td>tvMiniSeries</td>\n",
       "      <td>You Want Me to Steal You</td>\n",
       "      <td>Anata wa watashi ni otosaretai</td>\n",
       "      <td>0</td>\n",
       "      <td>2023</td>\n",
       "      <td>2023</td>\n",
       "      <td>30</td>\n",
       "      <td>Drama</td>\n",
       "    </tr>\n",
       "  </tbody>\n",
       "</table>\n",
       "</div>"
      ],
      "text/plain": [
       "             tconst     titleType              primaryTitle  \\\n",
       "6805769  tt28308058         short           Strained Brakes   \n",
       "4391169   tt1638945         video                     Shame   \n",
       "5876905   tt2309770         movie  Fascination Galapagos 3D   \n",
       "221010    tt0230794         movie  Locksmith and Chancellor   \n",
       "6206811  tt25786454  tvMiniSeries  You Want Me to Steal You   \n",
       "\n",
       "                          originalTitle isAdult startYear endYear  \\\n",
       "6805769                  Pinnat Kireenä       0      2023      \\N   \n",
       "4391169                           Zonde       0      2010      \\N   \n",
       "5876905           Faszination Galapagos       0      2012      \\N   \n",
       "221010                Slesar i kantsler       0      1924      \\N   \n",
       "6206811  Anata wa watashi ni otosaretai       0      2023    2023   \n",
       "\n",
       "        runtimeMinutes                genres  \n",
       "6805769             24   Action,Comedy,Short  \n",
       "4391169             61  Comedy,Drama,Romance  \n",
       "5876905             \\N           Documentary  \n",
       "221010              54                 Drama  \n",
       "6206811             30                 Drama  "
      ]
     },
     "execution_count": 14,
     "metadata": {},
     "output_type": "execute_result"
    }
   ],
   "source": [
    "imdb_title_basics.query('primaryTitle != originalTitle').sample(5, random_state=42)"
   ]
  },
  {
   "cell_type": "markdown",
   "id": "15cae1b1-cb6f-4762-acc8-2d956124b497",
   "metadata": {},
   "source": [
    "`primaryTitle` is the title translated to English, so let's use it"
   ]
  },
  {
   "cell_type": "code",
   "execution_count": 15,
   "id": "fde20284-87c6-4067-9521-a6fff44c9312",
   "metadata": {},
   "outputs": [],
   "source": [
    "imdb_title_basics = imdb_title_basics[['tconst', 'primaryTitle']]"
   ]
  },
  {
   "cell_type": "code",
   "execution_count": 16,
   "id": "aeefad80-7ecd-4865-9b40-5490d14aac2b",
   "metadata": {},
   "outputs": [],
   "source": [
    "imdb_merged = pd.merge(imdb_title_ratings, imdb_title_basics, on='tconst')\n",
    "imdb_merged = imdb_merged.drop(columns=['tconst']).drop_duplicates(subset=['primaryTitle'])"
   ]
  },
  {
   "cell_type": "code",
   "execution_count": 17,
   "id": "bbfc543a-6a30-4aa7-bbab-467da6ded29a",
   "metadata": {},
   "outputs": [
    {
     "data": {
      "text/html": [
       "<div>\n",
       "<style scoped>\n",
       "    .dataframe tbody tr th:only-of-type {\n",
       "        vertical-align: middle;\n",
       "    }\n",
       "\n",
       "    .dataframe tbody tr th {\n",
       "        vertical-align: top;\n",
       "    }\n",
       "\n",
       "    .dataframe thead th {\n",
       "        text-align: right;\n",
       "    }\n",
       "</style>\n",
       "<table border=\"1\" class=\"dataframe\">\n",
       "  <thead>\n",
       "    <tr style=\"text-align: right;\">\n",
       "      <th></th>\n",
       "      <th>averageRating</th>\n",
       "      <th>numVotes</th>\n",
       "      <th>primaryTitle</th>\n",
       "    </tr>\n",
       "  </thead>\n",
       "  <tbody>\n",
       "    <tr>\n",
       "      <th>0</th>\n",
       "      <td>5.7</td>\n",
       "      <td>2007</td>\n",
       "      <td>Carmencita</td>\n",
       "    </tr>\n",
       "    <tr>\n",
       "      <th>1</th>\n",
       "      <td>5.8</td>\n",
       "      <td>269</td>\n",
       "      <td>Le clown et ses chiens</td>\n",
       "    </tr>\n",
       "    <tr>\n",
       "      <th>2</th>\n",
       "      <td>6.5</td>\n",
       "      <td>1912</td>\n",
       "      <td>Pauvre Pierrot</td>\n",
       "    </tr>\n",
       "    <tr>\n",
       "      <th>3</th>\n",
       "      <td>5.5</td>\n",
       "      <td>178</td>\n",
       "      <td>Un bon bock</td>\n",
       "    </tr>\n",
       "    <tr>\n",
       "      <th>4</th>\n",
       "      <td>6.2</td>\n",
       "      <td>2692</td>\n",
       "      <td>Blacksmith Scene</td>\n",
       "    </tr>\n",
       "  </tbody>\n",
       "</table>\n",
       "</div>"
      ],
      "text/plain": [
       "   averageRating  numVotes            primaryTitle\n",
       "0            5.7      2007              Carmencita\n",
       "1            5.8       269  Le clown et ses chiens\n",
       "2            6.5      1912          Pauvre Pierrot\n",
       "3            5.5       178             Un bon bock\n",
       "4            6.2      2692        Blacksmith Scene"
      ]
     },
     "execution_count": 17,
     "metadata": {},
     "output_type": "execute_result"
    }
   ],
   "source": [
    "imdb_merged.head()"
   ]
  },
  {
   "cell_type": "code",
   "execution_count": 18,
   "id": "14d65b03-c6f3-4d40-8155-03e0b386c96f",
   "metadata": {},
   "outputs": [
    {
     "data": {
      "text/plain": [
       "(1021996, 1021996)"
      ]
     },
     "execution_count": 18,
     "metadata": {},
     "output_type": "execute_result"
    }
   ],
   "source": [
    "len(imdb_merged), len(imdb_merged['primaryTitle'].unique())"
   ]
  },
  {
   "cell_type": "code",
   "execution_count": 19,
   "id": "e3e823d4-87bf-48b0-9a65-f3da07266168",
   "metadata": {},
   "outputs": [],
   "source": [
    "cmu_with_reviews = pd.merge(imdb_merged, cmu_merged, left_on='primaryTitle', right_on='movie_name', how='right')\n",
    "cmu_with_reviews = cmu_with_reviews.drop(columns=['primaryTitle'])"
   ]
  },
  {
   "cell_type": "code",
   "execution_count": 20,
   "id": "4dcc76de-d2b8-41e9-a6a4-c7f867ae8548",
   "metadata": {},
   "outputs": [
    {
     "data": {
      "text/plain": [
       "0.8171263387356649"
      ]
     },
     "execution_count": 20,
     "metadata": {},
     "output_type": "execute_result"
    }
   ],
   "source": [
    "cmu_with_reviews['averageRating'].notna().mean()"
   ]
  },
  {
   "cell_type": "markdown",
   "id": "d12ab61d-28e6-432f-955b-d1aba8e0223a",
   "metadata": {},
   "source": [
    "So we have average ratings for 81% of movies!"
   ]
  },
  {
   "cell_type": "markdown",
   "id": "f77ca7ee-d125-474c-b221-262431915aaf",
   "metadata": {},
   "source": [
    "# Merge Movie lens and IMDB"
   ]
  },
  {
   "cell_type": "code",
   "execution_count": 21,
   "id": "2562eb08-feec-4899-8eed-ca48375968b8",
   "metadata": {},
   "outputs": [],
   "source": [
    "cmu_and_movielens = pd.merge(\n",
    "    movielens_merged, cmu_with_reviews, left_on='title_without_year', right_on='movie_name', how='right')\n",
    "cmu_and_movielens = cmu_and_movielens.drop(columns=['title', 'title_without_year'])"
   ]
  },
  {
   "cell_type": "code",
   "execution_count": 22,
   "id": "a8589a4d-afad-4ae0-8aeb-868e0f6f1474",
   "metadata": {},
   "outputs": [],
   "source": [
    "import numpy as np"
   ]
  },
  {
   "cell_type": "code",
   "execution_count": 23,
   "id": "f7e6362f-ef99-4858-b49f-345fe779adfc",
   "metadata": {},
   "outputs": [],
   "source": [
    "cmu_and_movielens['movie_rating'] = np.where(cmu_and_movielens['averageRating'].notna(), \n",
    "                                             cmu_and_movielens['averageRating'], \n",
    "                                             cmu_and_movielens['rating'])"
   ]
  },
  {
   "cell_type": "code",
   "execution_count": 24,
   "id": "4a7185a3-4444-4c5a-8829-91abf5092eea",
   "metadata": {},
   "outputs": [],
   "source": [
    "cmu_and_movielens = cmu_and_movielens.drop(columns=['rating', 'averageRating'])"
   ]
  },
  {
   "cell_type": "code",
   "execution_count": 25,
   "id": "585dc932-9200-4fce-aa02-246fdba039c2",
   "metadata": {},
   "outputs": [
    {
     "data": {
      "text/plain": [
       "0.8280770815214904"
      ]
     },
     "execution_count": 25,
     "metadata": {},
     "output_type": "execute_result"
    }
   ],
   "source": [
    "cmu_and_movielens['movie_rating'].notna().mean()"
   ]
  },
  {
   "cell_type": "markdown",
   "id": "38badddc-974d-4e33-a2fb-8e29bb2b923e",
   "metadata": {},
   "source": [
    "After adding data from movielens, we increased not nan values by 1%"
   ]
  },
  {
   "cell_type": "markdown",
   "id": "41dde66e-e18b-4f82-bf1c-9adfb6c4bc20",
   "metadata": {},
   "source": [
    "Now we have ratings data for 83% of movies"
   ]
  },
  {
   "cell_type": "markdown",
   "id": "bfbd6947-a563-4d70-b097-06876736f158",
   "metadata": {},
   "source": [
    "## IMDB Movie Ratings Dataset"
   ]
  },
  {
   "cell_type": "markdown",
   "id": "05ab164b-a751-4fde-8aa0-5c4009e972c7",
   "metadata": {},
   "source": [
    "https://www.kaggle.com/datasets/thedevastator/imdb-movie-ratings-dataset"
   ]
  },
  {
   "cell_type": "code",
   "execution_count": 26,
   "id": "2f1e47e9-1cb7-4482-845d-d0ac77c8fdd4",
   "metadata": {},
   "outputs": [],
   "source": [
    "imdb_movie_data = pd.read_csv('movie_data.csv')[['movie_title', 'num_voted_users', 'imdb_score']]"
   ]
  },
  {
   "cell_type": "code",
   "execution_count": 27,
   "id": "895a5f2a-6d84-4883-bfde-5973f671b8ca",
   "metadata": {},
   "outputs": [],
   "source": [
    "imdb_movie_data['movie_title'] = imdb_movie_data['movie_title'].apply(lambda x: x.strip())"
   ]
  },
  {
   "cell_type": "code",
   "execution_count": 28,
   "id": "ae340af9-cead-45c5-bbe0-1d6a85811342",
   "metadata": {},
   "outputs": [],
   "source": [
    "cmu_and_new_imdb = pd.merge(\n",
    "    imdb_movie_data, cmu_and_movielens, left_on='movie_title', right_on='movie_name', how='right')\n",
    "cmu_and_new_imdb = cmu_and_new_imdb.drop(columns=['movie_title'])"
   ]
  },
  {
   "cell_type": "code",
   "execution_count": 29,
   "id": "d3bf7c2e-b8d7-48b5-a9da-302d18e66d08",
   "metadata": {},
   "outputs": [],
   "source": [
    "cmu_and_new_imdb['movie_rating'] = np.where(cmu_and_new_imdb['movie_rating'].notna(), \n",
    "                                             cmu_and_new_imdb['movie_rating'], \n",
    "                                             cmu_and_new_imdb['imdb_score'])"
   ]
  },
  {
   "cell_type": "code",
   "execution_count": 30,
   "id": "d51793e4-8492-48fa-a4cf-09b232eea6f3",
   "metadata": {},
   "outputs": [
    {
     "data": {
      "text/plain": [
       "0.829665962713173"
      ]
     },
     "execution_count": 30,
     "metadata": {},
     "output_type": "execute_result"
    }
   ],
   "source": [
    "cmu_and_new_imdb['movie_rating'].notna().mean()"
   ]
  },
  {
   "cell_type": "code",
   "execution_count": 31,
   "id": "f28ac2fe-2010-42f7-b81c-98b519e1e918",
   "metadata": {},
   "outputs": [],
   "source": [
    "cmu_and_new_imdb['n_votes'] = np.where(cmu_and_new_imdb['numVotes'].notna(), \n",
    "                                             cmu_and_new_imdb['numVotes'], \n",
    "                                             cmu_and_new_imdb['num_voted_users'])"
   ]
  },
  {
   "cell_type": "code",
   "execution_count": 32,
   "id": "c2621771-d81f-4d5c-ad2a-2465792b580b",
   "metadata": {},
   "outputs": [
    {
     "data": {
      "text/plain": [
       "0.8253059926879669"
      ]
     },
     "execution_count": 32,
     "metadata": {},
     "output_type": "execute_result"
    }
   ],
   "source": [
    "cmu_and_new_imdb['n_votes'].notna().mean()"
   ]
  },
  {
   "cell_type": "markdown",
   "id": "9c2323a3-ad7f-431b-94e3-24454dd9f892",
   "metadata": {},
   "source": [
    "So, after merging data from three review datasets, we have average score for 83% of movies\n",
    "\n",
    "We used Movie Lens dataset and two IMDB datasets"
   ]
  }
 ],
 "metadata": {
  "kernelspec": {
   "display_name": "Python 3 (ipykernel)",
   "language": "python",
   "name": "python3"
  },
  "language_info": {
   "codemirror_mode": {
    "name": "ipython",
    "version": 3
   },
   "file_extension": ".py",
   "mimetype": "text/x-python",
   "name": "python",
   "nbconvert_exporter": "python",
   "pygments_lexer": "ipython3",
   "version": "3.11.6"
  }
 },
 "nbformat": 4,
 "nbformat_minor": 5
}
