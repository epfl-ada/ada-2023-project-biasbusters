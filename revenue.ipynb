{
 "cells": [
  {
   "cell_type": "markdown",
   "metadata": {},
   "source": [
    "# Initial Analysis - CMU Movie Corpus Dataset"
   ]
  },
  {
   "cell_type": "code",
   "execution_count": 31,
   "metadata": {},
   "outputs": [],
   "source": [
    "import pandas as pd\n",
    "import numpy as np\n",
    "import statsmodels as sts\n",
    "import matplotlib.pyplot as plt\n",
    "from textblob import TextBlob\n",
    "import nltk\n",
    "from concurrent.futures import ThreadPoolExecutor, as_completed\n",
    "import seaborn as sns"
   ]
  },
  {
   "cell_type": "code",
   "execution_count": 32,
   "metadata": {},
   "outputs": [],
   "source": [
    "plot_summaries_path = './Data/plot_summaries.txt'\n",
    "movie_metadata_path = './Data/movie.metadata.tsv'\n",
    "character_metadata_path = './Data/character.metadata.tsv'\n",
    "tv_tropes_path = './Data/tvtropes.clusters.txt'\n",
    "name_clusters_path = './Data/name.clusters.txt'"
   ]
  },
  {
   "cell_type": "code",
   "execution_count": 34,
   "metadata": {},
   "outputs": [],
   "source": [
    "plot_summaries = pd.read_csv(plot_summaries_path, sep='\\t', header=None, names=['movie_wikipedia_id', 'plot_summary'])\n",
    "movie_metadata = pd.read_csv(movie_metadata_path, sep='\\t', header=None, names=['movie_wikipedia_id', 'movie_freebase_id', 'movie_name', 'release_date', 'revenue', 'runtime', 'languages', 'countries', 'genres'])\n",
    "character_metadata = pd.read_csv(character_metadata_path, sep='\\t', header=None, names=['movie_wikipedia_id', 'movie_freebase_id', 'movie_release_date', 'character_name', 'actor_dob', 'actor_gender', 'actor_height', 'actor_ethnicity','actor_name','actor_age', 'character_freebase_map', 'freebase_character_id', 'freebase_actor_id'])\n",
    "tv_tropes = pd.read_csv(tv_tropes_path, sep='\\t', header=None, names=['trope', 'data'])\n",
    "name_clusters = pd.read_csv(name_clusters_path, sep='\\t', header=None, names=['character_name', 'id'])"
   ]
  },
  {
   "cell_type": "markdown",
   "metadata": {},
   "source": [
    "https://www.kaggle.com/datasets/eliasdabbas/boxofficemojo-alltime-domestic-data"
   ]
  },
  {
   "cell_type": "code",
   "execution_count": 36,
   "metadata": {},
   "outputs": [],
   "source": [
    "box_off = pd.read_csv('Data/boxoffice.csv')"
   ]
  },
  {
   "cell_type": "markdown",
   "metadata": {},
   "source": [
    "## Merged revenue info"
   ]
  },
  {
   "cell_type": "code",
   "execution_count": 66,
   "metadata": {},
   "outputs": [
    {
     "data": {
      "text/html": [
       "<div>\n",
       "<style scoped>\n",
       "    .dataframe tbody tr th:only-of-type {\n",
       "        vertical-align: middle;\n",
       "    }\n",
       "\n",
       "    .dataframe tbody tr th {\n",
       "        vertical-align: top;\n",
       "    }\n",
       "\n",
       "    .dataframe thead th {\n",
       "        text-align: right;\n",
       "    }\n",
       "</style>\n",
       "<table border=\"1\" class=\"dataframe\">\n",
       "  <thead>\n",
       "    <tr style=\"text-align: right;\">\n",
       "      <th></th>\n",
       "      <th>rank</th>\n",
       "      <th>title</th>\n",
       "      <th>studio</th>\n",
       "      <th>lifetime_gross</th>\n",
       "      <th>year</th>\n",
       "    </tr>\n",
       "  </thead>\n",
       "  <tbody>\n",
       "    <tr>\n",
       "      <th>0</th>\n",
       "      <td>1</td>\n",
       "      <td>Star Wars: The Force Awakens</td>\n",
       "      <td>BV</td>\n",
       "      <td>936662225</td>\n",
       "      <td>2015</td>\n",
       "    </tr>\n",
       "    <tr>\n",
       "      <th>1</th>\n",
       "      <td>2</td>\n",
       "      <td>Avatar</td>\n",
       "      <td>Fox</td>\n",
       "      <td>760507625</td>\n",
       "      <td>2009</td>\n",
       "    </tr>\n",
       "    <tr>\n",
       "      <th>2</th>\n",
       "      <td>3</td>\n",
       "      <td>Black Panther</td>\n",
       "      <td>BV</td>\n",
       "      <td>700059566</td>\n",
       "      <td>2018</td>\n",
       "    </tr>\n",
       "    <tr>\n",
       "      <th>3</th>\n",
       "      <td>4</td>\n",
       "      <td>Avengers: Infinity War</td>\n",
       "      <td>BV</td>\n",
       "      <td>678681680</td>\n",
       "      <td>2018</td>\n",
       "    </tr>\n",
       "    <tr>\n",
       "      <th>4</th>\n",
       "      <td>5</td>\n",
       "      <td>Titanic</td>\n",
       "      <td>Par.</td>\n",
       "      <td>659363944</td>\n",
       "      <td>1997</td>\n",
       "    </tr>\n",
       "    <tr>\n",
       "      <th>...</th>\n",
       "      <td>...</td>\n",
       "      <td>...</td>\n",
       "      <td>...</td>\n",
       "      <td>...</td>\n",
       "      <td>...</td>\n",
       "    </tr>\n",
       "    <tr>\n",
       "      <th>15738</th>\n",
       "      <td>15739</td>\n",
       "      <td>Dog Eat Dog</td>\n",
       "      <td>IFC</td>\n",
       "      <td>80</td>\n",
       "      <td>2009</td>\n",
       "    </tr>\n",
       "    <tr>\n",
       "      <th>15739</th>\n",
       "      <td>15740</td>\n",
       "      <td>Paranoid Girls</td>\n",
       "      <td>NaN</td>\n",
       "      <td>78</td>\n",
       "      <td>2015</td>\n",
       "    </tr>\n",
       "    <tr>\n",
       "      <th>15740</th>\n",
       "      <td>15741</td>\n",
       "      <td>Confession of a Child of the Century</td>\n",
       "      <td>Cohen</td>\n",
       "      <td>74</td>\n",
       "      <td>2015</td>\n",
       "    </tr>\n",
       "    <tr>\n",
       "      <th>15741</th>\n",
       "      <td>15742</td>\n",
       "      <td>Storage 24</td>\n",
       "      <td>Magn.</td>\n",
       "      <td>72</td>\n",
       "      <td>2013</td>\n",
       "    </tr>\n",
       "    <tr>\n",
       "      <th>15742</th>\n",
       "      <td>15743</td>\n",
       "      <td>Zyzzyx Road</td>\n",
       "      <td>Reg.</td>\n",
       "      <td>30</td>\n",
       "      <td>2006</td>\n",
       "    </tr>\n",
       "  </tbody>\n",
       "</table>\n",
       "<p>15743 rows × 5 columns</p>\n",
       "</div>"
      ],
      "text/plain": [
       "        rank                                 title studio  lifetime_gross  \\\n",
       "0          1          Star Wars: The Force Awakens     BV       936662225   \n",
       "1          2                                Avatar    Fox       760507625   \n",
       "2          3                         Black Panther     BV       700059566   \n",
       "3          4                Avengers: Infinity War     BV       678681680   \n",
       "4          5                               Titanic   Par.       659363944   \n",
       "...      ...                                   ...    ...             ...   \n",
       "15738  15739                           Dog Eat Dog    IFC              80   \n",
       "15739  15740                        Paranoid Girls    NaN              78   \n",
       "15740  15741  Confession of a Child of the Century  Cohen              74   \n",
       "15741  15742                            Storage 24  Magn.              72   \n",
       "15742  15743                           Zyzzyx Road   Reg.              30   \n",
       "\n",
       "       year  \n",
       "0      2015  \n",
       "1      2009  \n",
       "2      2018  \n",
       "3      2018  \n",
       "4      1997  \n",
       "...     ...  \n",
       "15738  2009  \n",
       "15739  2015  \n",
       "15740  2015  \n",
       "15741  2013  \n",
       "15742  2006  \n",
       "\n",
       "[15743 rows x 5 columns]"
      ]
     },
     "execution_count": 66,
     "metadata": {},
     "output_type": "execute_result"
    }
   ],
   "source": [
    "box_off"
   ]
  },
  {
   "cell_type": "code",
   "execution_count": 70,
   "metadata": {},
   "outputs": [
    {
     "data": {
      "text/plain": [
       "(81741, 9)"
      ]
     },
     "execution_count": 70,
     "metadata": {},
     "output_type": "execute_result"
    }
   ],
   "source": [
    "movie_metadata.shape"
   ]
  },
  {
   "cell_type": "code",
   "execution_count": 68,
   "metadata": {},
   "outputs": [],
   "source": [
    "mrgd = pd.merge(movie_metadata, box_off, right_on='title', left_on='movie_name', how='left')"
   ]
  },
  {
   "cell_type": "code",
   "execution_count": 71,
   "metadata": {},
   "outputs": [],
   "source": [
    "mrgd['final_rev'] = np.where(mrgd['revenue'].notna(), mrgd['revenue'], mrgd['lifetime_gross'])"
   ]
  },
  {
   "cell_type": "code",
   "execution_count": 72,
   "metadata": {},
   "outputs": [
    {
     "data": {
      "text/plain": [
       "0.17685146724656095"
      ]
     },
     "execution_count": 72,
     "metadata": {},
     "output_type": "execute_result"
    }
   ],
   "source": [
    "mrgd['final_rev'].notna().mean()"
   ]
  },
  {
   "cell_type": "code",
   "execution_count": 73,
   "metadata": {},
   "outputs": [
    {
     "data": {
      "text/plain": [
       "0.1027758407653442"
      ]
     },
     "execution_count": 73,
     "metadata": {},
     "output_type": "execute_result"
    }
   ],
   "source": [
    "movie_metadata['revenue'].notna().mean()"
   ]
  }
 ],
 "metadata": {
  "kernelspec": {
   "display_name": "Python 3 (ipykernel)",
   "language": "python",
   "name": "python3"
  },
  "language_info": {
   "codemirror_mode": {
    "name": "ipython",
    "version": 3
   },
   "file_extension": ".py",
   "mimetype": "text/x-python",
   "name": "python",
   "nbconvert_exporter": "python",
   "pygments_lexer": "ipython3",
   "version": "3.11.1"
  }
 },
 "nbformat": 4,
 "nbformat_minor": 4
}
