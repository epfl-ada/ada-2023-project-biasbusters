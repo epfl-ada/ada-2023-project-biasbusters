{
 "cells": [
  {
   "cell_type": "code",
   "execution_count": 1,
   "id": "3c988230-35c1-4b39-95ae-d5276b34dfd4",
   "metadata": {},
   "outputs": [],
   "source": [
    "import pandas as pd\n",
    "import numpy as np\n",
    "import dataset\n",
    "import statsmodels as sts\n",
    "import matplotlib.pyplot as plt\n",
    "import seaborn as sns\n",
    "import communities\n",
    "import plots\n",
    "import json"
   ]
  },
  {
   "cell_type": "code",
   "execution_count": 2,
   "id": "77f705c7-87b9-42ca-9c5f-bea4d35b1cba",
   "metadata": {},
   "outputs": [
    {
     "name": "stderr",
     "output_type": "stream",
     "text": [
      "/Users/daniillikhobaba/EPFL/ADA/ada-2023-project-biasbusters/dataset.py:27: DtypeWarning: Columns (4) have mixed types. Specify dtype option on import or set low_memory=False.\n",
      "  imdb_title_basics = pd.read_csv('Data/imdb/title.basics.tsv', sep='\\t')\n"
     ]
    }
   ],
   "source": [
    "augmented_cmu = dataset.get_augmented_cmu()\n",
    "imdb_df = dataset.get_imdb_dataset()\n",
    "boxofficemojo = dataset.get_boxofficemojo_dataset()\n",
    "rottentomatoes = dataset.get_rottentomatoes_dataset()\n",
    "awards_df = dataset.load_dataset('Output/awards.csv')"
   ]
  },
  {
   "cell_type": "code",
   "execution_count": 3,
   "id": "695985d6-28ca-4600-af21-98056b30c13e",
   "metadata": {},
   "outputs": [],
   "source": [
    "imdb_df = imdb_df.drop(columns=['title_type', 'genres', 'runtime_minutes', 'movie_name', 'release_year'])"
   ]
  },
  {
   "cell_type": "markdown",
   "id": "2c8ba416-67d7-4d35-a049-a82cc4b0fa24",
   "metadata": {},
   "source": [
    "We need to use re-labeled llm features (fixed couple of issues). The code for datasets loading is too complex to change it, so let's just merge it with re-labeled llm features."
   ]
  },
  {
   "cell_type": "code",
   "execution_count": 4,
   "id": "89607523-b90d-4fc1-8ddd-41c016b677f9",
   "metadata": {},
   "outputs": [],
   "source": [
    "plot_features = pd.read_csv('plot_features.csv')\n",
    "llm_columns = ['topic', 'mood', 'target_audience', 'temporal_setting', 'location_setting']\n",
    "\n",
    "augmented_cmu = pd.merge(\n",
    "    augmented_cmu.drop(columns=llm_columns), \n",
    "    plot_features[['movie_wikipedia_id'] + llm_columns],\n",
    "    on='movie_wikipedia_id'\n",
    ")"
   ]
  },
  {
   "cell_type": "code",
   "execution_count": 5,
   "id": "30a219f1-c739-4f58-9204-1fce0e5abd5a",
   "metadata": {},
   "outputs": [],
   "source": [
    "augmented_cmu[['languages', 'countries', 'genres', 'topic', 'mood', 'target_audience',\n",
    "       'temporal_setting', 'location_setting']] = augmented_cmu[\n",
    "            ['languages', 'countries', 'genres', 'topic', 'mood', 'target_audience',\n",
    "       'temporal_setting', 'location_setting']\n",
    "    ].map(json.loads, na_action='ignore')"
   ]
  },
  {
   "cell_type": "code",
   "execution_count": 6,
   "id": "1bb7d766-30ce-4735-89da-4d46d267b5bc",
   "metadata": {},
   "outputs": [],
   "source": [
    "augmented_cmu[['languages', 'countries', 'genres']] = \\\n",
    "    augmented_cmu[['languages', 'countries', 'genres']].map(\n",
    "        lambda x: [y.lower() for y in x.values()], na_action='ignore')"
   ]
  },
  {
   "cell_type": "code",
   "execution_count": 7,
   "id": "cfd5b7f9-a033-461d-80f6-2c710c8b6297",
   "metadata": {},
   "outputs": [
    {
     "data": {
      "text/plain": [
       "{'conflict', 'historical', 'romance'}"
      ]
     },
     "execution_count": 7,
     "metadata": {},
     "output_type": "execute_result"
    }
   ],
   "source": [
    "set(y for x in augmented_cmu['topic'].dropna() for y in x) - \\\n",
    "    set(y for x in augmented_cmu['genres'].dropna() for y in x)"
   ]
  },
  {
   "cell_type": "markdown",
   "id": "55c2249f-9b13-454e-ade9-c31482b62577",
   "metadata": {},
   "source": [
    "Topics are just genres. Let's merge them into genres"
   ]
  },
  {
   "cell_type": "code",
   "execution_count": 8,
   "id": "05d3c6b5-537c-448e-97c8-da7593a45b2b",
   "metadata": {},
   "outputs": [],
   "source": [
    "augmented_cmu['genres'] = (augmented_cmu['genres'] + augmented_cmu['topic'])\\\n",
    "    .map(lambda x: list(set(x)), na_action='ignore')\n",
    "augmented_cmu = augmented_cmu.drop(columns='topic')"
   ]
  },
  {
   "cell_type": "code",
   "execution_count": 9,
   "id": "82393f31-9c7c-4205-9dc5-c87efa225cb8",
   "metadata": {},
   "outputs": [
    {
     "data": {
      "text/plain": [
       "array(['en'], dtype=object)"
      ]
     },
     "execution_count": 9,
     "metadata": {},
     "output_type": "execute_result"
    }
   ],
   "source": [
    "augmented_cmu['language'].unique()"
   ]
  },
  {
   "cell_type": "code",
   "execution_count": 10,
   "id": "32c16673-b316-4624-a765-3fbe92890878",
   "metadata": {},
   "outputs": [],
   "source": [
    "augmented_cmu = augmented_cmu.drop(columns='language')"
   ]
  },
  {
   "cell_type": "code",
   "execution_count": 11,
   "id": "6afbf1d7-fe5b-4c22-ad24-0c384ba89b35",
   "metadata": {},
   "outputs": [],
   "source": [
    "augmented_cmu = augmented_cmu[\n",
    "    ~augmented_cmu[['genres', 'mood', 'target_audience', 'temporal_setting', 'location_setting']]\\\n",
    "    .isna().any(axis=1)]"
   ]
  },
  {
   "cell_type": "code",
   "execution_count": 12,
   "id": "5c39e91c-c782-4a05-a39f-4e6851b8e188",
   "metadata": {},
   "outputs": [],
   "source": [
    "plot_analysis = pd.merge(\n",
    "    left=augmented_cmu,\n",
    "    right=imdb_df,\n",
    "    how='inner', on='imdb_id')\n",
    "awards_aggregated = awards_df.groupby('imdb_id').agg({'award': list,'category': list,'win': list}).reset_index()\n",
    "\n",
    "plot_analysis = pd.merge(left=plot_analysis, right=awards_aggregated, how='left', on='imdb_id')\n",
    "plot_analysis = pd.merge(left=plot_analysis, right=boxofficemojo, how='left', on='imdb_id')"
   ]
  },
  {
   "cell_type": "code",
   "execution_count": 13,
   "id": "63efc8ab-ef56-4791-b5d4-499d6e6f5bda",
   "metadata": {},
   "outputs": [],
   "source": [
    "plot_analysis.to_csv('plot_analysis.csv', index=None)"
   ]
  },
  {
   "cell_type": "code",
   "execution_count": 14,
   "id": "62ec5edb-0187-4f60-8ab9-99136f5672b5",
   "metadata": {},
   "outputs": [
    {
     "data": {
      "text/plain": [
       "Index(['movie_wikipedia_id', 'movie_freebase_id', 'movie_name', 'release_year',\n",
       "       'revenue', 'runtime', 'languages', 'countries', 'genres',\n",
       "       'plot_summary', 'word_count', 'char_count', 'avg_word_length',\n",
       "       'sentence_count', 'lexical_diversity', 'sentiment_polarity', 'imdb_id',\n",
       "       'imdb_name', 'imdb_year', 'mood', 'target_audience', 'temporal_setting',\n",
       "       'location_setting', 'is_adult', 'avg_rating', 'num_votes', 'award',\n",
       "       'category', 'win', 'domestic_distributor', 'domestic_opening', 'budget',\n",
       "       'releases', 'performance_domestic', 'performance_international',\n",
       "       'performance_worldwide', 'metric_roi', 'percentage_domestic',\n",
       "       'percentage_international'],\n",
       "      dtype='object')"
      ]
     },
     "execution_count": 14,
     "metadata": {},
     "output_type": "execute_result"
    }
   ],
   "source": [
    "plot_analysis.columns"
   ]
  },
  {
   "cell_type": "code",
   "execution_count": 15,
   "id": "5781cd27-da2b-4b5b-a8a4-bac502a4a776",
   "metadata": {},
   "outputs": [
    {
     "data": {
      "text/plain": [
       "Index(['movie_wikipedia_id', 'movie_freebase_id', 'movie_name', 'release_year',\n",
       "       'revenue', 'runtime', 'languages', 'countries', 'genres',\n",
       "       'plot_summary', 'word_count', 'char_count', 'avg_word_length',\n",
       "       'sentence_count', 'lexical_diversity', 'sentiment_polarity', 'imdb_id',\n",
       "       'imdb_name', 'imdb_year', 'mood', 'target_audience', 'temporal_setting',\n",
       "       'location_setting'],\n",
       "      dtype='object')"
      ]
     },
     "execution_count": 15,
     "metadata": {},
     "output_type": "execute_result"
    }
   ],
   "source": [
    "augmented_cmu.columns"
   ]
  },
  {
   "cell_type": "code",
   "execution_count": 16,
   "id": "5396c02d-9863-453c-a502-ef211286b8f2",
   "metadata": {},
   "outputs": [
    {
     "data": {
      "text/plain": [
       "6442"
      ]
     },
     "execution_count": 16,
     "metadata": {},
     "output_type": "execute_result"
    }
   ],
   "source": [
    "plot_analysis['performance_worldwide'].notna().sum()"
   ]
  },
  {
   "cell_type": "markdown",
   "id": "39749324-1696-46c4-a91f-cdbcc0e77f25",
   "metadata": {},
   "source": [
    "# Regression analysis for reviews"
   ]
  },
  {
   "cell_type": "code",
   "execution_count": 17,
   "id": "8e69ec06-41a6-455d-a636-980a9e14ce9c",
   "metadata": {},
   "outputs": [
    {
     "data": {
      "text/plain": [
       "1.0"
      ]
     },
     "execution_count": 17,
     "metadata": {},
     "output_type": "execute_result"
    }
   ],
   "source": [
    "plot_analysis['avg_rating'].notna().mean()"
   ]
  },
  {
   "cell_type": "code",
   "execution_count": 18,
   "id": "6bfd3ae5-d97e-4de4-97ed-c4af98f5b12f",
   "metadata": {},
   "outputs": [],
   "source": [
    "from sklearn.preprocessing import MultiLabelBinarizer"
   ]
  },
  {
   "cell_type": "code",
   "execution_count": 19,
   "id": "f42ecffc-168d-4ea7-b6ea-4d68d4142dfe",
   "metadata": {},
   "outputs": [],
   "source": [
    "def one_hot_encode_multilabel(df, column_name):\n",
    "    \"\"\"\n",
    "    Applies one-hot encoding to a column with multilabel classes in a DataFrame.\n",
    "\n",
    "    :param df: pandas DataFrame containing the column to encode.\n",
    "    :param column_name: string name of the column that contains multilabel classes.\n",
    "    :return: DataFrame with original column replaced by one-hot encoded columns.\n",
    "    \"\"\"\n",
    "    df = df.reset_index(drop=True)\n",
    "    mlb = MultiLabelBinarizer()\n",
    "    \n",
    "    encoded_data = mlb.fit_transform(df[column_name])\n",
    "    encoded_df = pd.DataFrame(encoded_data, columns=[f'{column_name}_{class_}' for class_ in mlb.classes_])\n",
    "    \n",
    "    df = df.drop(column_name, axis=1).join(encoded_df)\n",
    "    \n",
    "    return df"
   ]
  },
  {
   "cell_type": "code",
   "execution_count": 20,
   "id": "c7d7d543-1ed7-468c-bc56-6df5414382d9",
   "metadata": {},
   "outputs": [
    {
     "data": {
      "text/html": [
       "<div>\n",
       "<style scoped>\n",
       "    .dataframe tbody tr th:only-of-type {\n",
       "        vertical-align: middle;\n",
       "    }\n",
       "\n",
       "    .dataframe tbody tr th {\n",
       "        vertical-align: top;\n",
       "    }\n",
       "\n",
       "    .dataframe thead th {\n",
       "        text-align: right;\n",
       "    }\n",
       "</style>\n",
       "<table border=\"1\" class=\"dataframe\">\n",
       "  <thead>\n",
       "    <tr style=\"text-align: right;\">\n",
       "      <th></th>\n",
       "      <th>release_year</th>\n",
       "      <th>runtime</th>\n",
       "      <th>countries</th>\n",
       "      <th>genres</th>\n",
       "    </tr>\n",
       "  </thead>\n",
       "  <tbody>\n",
       "    <tr>\n",
       "      <th>0</th>\n",
       "      <td>2001</td>\n",
       "      <td>98.0</td>\n",
       "      <td>[united states of america]</td>\n",
       "      <td>[science fiction, space western, horror, adven...</td>\n",
       "    </tr>\n",
       "    <tr>\n",
       "      <th>1</th>\n",
       "      <td>1987</td>\n",
       "      <td>110.0</td>\n",
       "      <td>[united kingdom]</td>\n",
       "      <td>[psychological thriller, erotic thriller, myst...</td>\n",
       "    </tr>\n",
       "    <tr>\n",
       "      <th>2</th>\n",
       "      <td>1983</td>\n",
       "      <td>106.0</td>\n",
       "      <td>[germany]</td>\n",
       "      <td>[drama]</td>\n",
       "    </tr>\n",
       "    <tr>\n",
       "      <th>3</th>\n",
       "      <td>2002</td>\n",
       "      <td>86.0</td>\n",
       "      <td>[south africa]</td>\n",
       "      <td>[world cinema, family film, adventure, fantasy]</td>\n",
       "    </tr>\n",
       "    <tr>\n",
       "      <th>4</th>\n",
       "      <td>1997</td>\n",
       "      <td>93.0</td>\n",
       "      <td>[united states of america]</td>\n",
       "      <td>[comedy, comedy-drama, drama, romance, ensembl...</td>\n",
       "    </tr>\n",
       "    <tr>\n",
       "      <th>...</th>\n",
       "      <td>...</td>\n",
       "      <td>...</td>\n",
       "      <td>...</td>\n",
       "      <td>...</td>\n",
       "    </tr>\n",
       "    <tr>\n",
       "      <th>18208</th>\n",
       "      <td>2000</td>\n",
       "      <td>106.0</td>\n",
       "      <td>[france, united states of america]</td>\n",
       "      <td>[drama, parody, comedy, americana]</td>\n",
       "    </tr>\n",
       "    <tr>\n",
       "      <th>18209</th>\n",
       "      <td>1993</td>\n",
       "      <td>107.0</td>\n",
       "      <td>[united states of america]</td>\n",
       "      <td>[psychological thriller, erotic thriller, cour...</td>\n",
       "    </tr>\n",
       "    <tr>\n",
       "      <th>18210</th>\n",
       "      <td>1994</td>\n",
       "      <td>NaN</td>\n",
       "      <td>[india]</td>\n",
       "      <td>[drama, action, crime, comedy]</td>\n",
       "    </tr>\n",
       "    <tr>\n",
       "      <th>18211</th>\n",
       "      <td>2011</td>\n",
       "      <td>120.0</td>\n",
       "      <td>[united states of america]</td>\n",
       "      <td>[drama, science fiction, mystery]</td>\n",
       "    </tr>\n",
       "    <tr>\n",
       "      <th>18212</th>\n",
       "      <td>2011</td>\n",
       "      <td>96.0</td>\n",
       "      <td>[ireland, united kingdom]</td>\n",
       "      <td>[drama, documentary, conflict, biographical film]</td>\n",
       "    </tr>\n",
       "  </tbody>\n",
       "</table>\n",
       "<p>18213 rows × 4 columns</p>\n",
       "</div>"
      ],
      "text/plain": [
       "       release_year  runtime                           countries  \\\n",
       "0              2001     98.0          [united states of america]   \n",
       "1              1987    110.0                    [united kingdom]   \n",
       "2              1983    106.0                           [germany]   \n",
       "3              2002     86.0                      [south africa]   \n",
       "4              1997     93.0          [united states of america]   \n",
       "...             ...      ...                                 ...   \n",
       "18208          2000    106.0  [france, united states of america]   \n",
       "18209          1993    107.0          [united states of america]   \n",
       "18210          1994      NaN                             [india]   \n",
       "18211          2011    120.0          [united states of america]   \n",
       "18212          2011     96.0           [ireland, united kingdom]   \n",
       "\n",
       "                                                  genres  \n",
       "0      [science fiction, space western, horror, adven...  \n",
       "1      [psychological thriller, erotic thriller, myst...  \n",
       "2                                                [drama]  \n",
       "3        [world cinema, family film, adventure, fantasy]  \n",
       "4      [comedy, comedy-drama, drama, romance, ensembl...  \n",
       "...                                                  ...  \n",
       "18208                 [drama, parody, comedy, americana]  \n",
       "18209  [psychological thriller, erotic thriller, cour...  \n",
       "18210                     [drama, action, crime, comedy]  \n",
       "18211                  [drama, science fiction, mystery]  \n",
       "18212  [drama, documentary, conflict, biographical film]  \n",
       "\n",
       "[18213 rows x 4 columns]"
      ]
     },
     "execution_count": 20,
     "metadata": {},
     "output_type": "execute_result"
    }
   ],
   "source": [
    "plot_analysis[['release_year', 'runtime', 'countries', 'genres']]"
   ]
  },
  {
   "cell_type": "code",
   "execution_count": 21,
   "id": "6425a03c-8122-4c85-8878-0ec6f0d85fe8",
   "metadata": {},
   "outputs": [
    {
     "data": {
      "text/plain": [
       "Index(['movie_wikipedia_id', 'movie_freebase_id', 'movie_name', 'release_year',\n",
       "       'revenue', 'runtime', 'languages', 'countries', 'genres',\n",
       "       'plot_summary', 'word_count', 'char_count', 'avg_word_length',\n",
       "       'sentence_count', 'lexical_diversity', 'sentiment_polarity', 'imdb_id',\n",
       "       'imdb_name', 'imdb_year', 'mood', 'target_audience', 'temporal_setting',\n",
       "       'location_setting', 'is_adult', 'avg_rating', 'num_votes', 'award',\n",
       "       'category', 'win', 'domestic_distributor', 'domestic_opening', 'budget',\n",
       "       'releases', 'performance_domestic', 'performance_international',\n",
       "       'performance_worldwide', 'metric_roi', 'percentage_domestic',\n",
       "       'percentage_international'],\n",
       "      dtype='object')"
      ]
     },
     "execution_count": 21,
     "metadata": {},
     "output_type": "execute_result"
    }
   ],
   "source": [
    "plot_analysis.columns"
   ]
  },
  {
   "cell_type": "code",
   "execution_count": 22,
   "id": "877f895f-f881-4149-bd6e-db519699b3d4",
   "metadata": {},
   "outputs": [],
   "source": [
    "one_hotted = one_hot_encode_multilabel(plot_analysis, 'mood')"
   ]
  },
  {
   "cell_type": "code",
   "execution_count": 23,
   "id": "23c18d05-45a6-4bd2-adeb-3e42a01cf541",
   "metadata": {},
   "outputs": [],
   "source": [
    "import statsmodels.formula.api as smf"
   ]
  },
  {
   "cell_type": "code",
   "execution_count": 24,
   "id": "11c0e110-c8cb-46ef-8a74-1347e274e96b",
   "metadata": {},
   "outputs": [
    {
     "data": {
      "text/plain": [
       "Index(['movie_wikipedia_id', 'movie_freebase_id', 'movie_name', 'release_year',\n",
       "       'revenue', 'runtime', 'languages', 'countries', 'genres',\n",
       "       'plot_summary', 'word_count', 'char_count', 'avg_word_length',\n",
       "       'sentence_count', 'lexical_diversity', 'sentiment_polarity', 'imdb_id',\n",
       "       'imdb_name', 'imdb_year', 'target_audience', 'temporal_setting',\n",
       "       'location_setting', 'is_adult', 'avg_rating', 'num_votes', 'award',\n",
       "       'category', 'win', 'domestic_distributor', 'domestic_opening', 'budget',\n",
       "       'releases', 'performance_domestic', 'performance_international',\n",
       "       'performance_worldwide', 'metric_roi', 'percentage_domestic',\n",
       "       'percentage_international', 'mood_dark', 'mood_dramatic',\n",
       "       'mood_exciting', 'mood_fantastical', 'mood_inspirational',\n",
       "       'mood_lighthearted', 'mood_romantic'],\n",
       "      dtype='object')"
      ]
     },
     "execution_count": 24,
     "metadata": {},
     "output_type": "execute_result"
    }
   ],
   "source": [
    "one_hotted.columns"
   ]
  },
  {
   "cell_type": "code",
   "execution_count": 84,
   "id": "89768dde-6ca7-45ec-a7db-c67231b3435f",
   "metadata": {},
   "outputs": [],
   "source": [
    "def fit_regression_model(df, feature_columns, target_feature):\n",
    "    \"\"\"\n",
    "    Fits a regression model using one-hot encoding for categorical features with multilabel classes.\n",
    "    \n",
    "    :param df: pandas DataFrame containing the data.\n",
    "    :param feature_columns: list of feature column names to include in the model.\n",
    "    :param target_feature: the name of the target feature for regression.\n",
    "    \"\"\"\n",
    "    \n",
    "    # Create a copy of the DataFrame to avoid modifying the original one\n",
    "    df_copy = df.copy()\n",
    "    \n",
    "    # Process each feature column\n",
    "    formula_parts = []\n",
    "    for column in feature_columns:\n",
    "        # Check if the column is categorical by checking if the data type is object or category\n",
    "        if df_copy[column].dtype == 'O' or df_copy[column].dtype.name == 'category':\n",
    "            # Apply one-hot encoding to the column\n",
    "            df_copy = one_hot_encode_multilabel(df_copy, column)\n",
    "            # Update formula with one-hot encoded columns\n",
    "            encoded_columns = [col for col in df_copy.columns if col.startswith(f'{column}_')]\n",
    "            formula_parts.extend([f'C({col})' for col in encoded_columns])\n",
    "        else:\n",
    "            # For numerical columns, just add the column name to the formula\n",
    "            formula_parts.append(column)\n",
    "    \n",
    "    # Construct the formula for the regression model\n",
    "    formula = f'{target_feature} ~ ' + ' + '.join(formula_parts)\n",
    "    \n",
    "    # Fit the regression model\n",
    "    mod = smf.ols(formula=formula, data=df_copy)\n",
    "    res = mod.fit()\n",
    "\n",
    "    variables = res.params.index\n",
    "    \n",
    "    # quantifying uncertainty!\n",
    "    \n",
    "    # coefficients\n",
    "    coefficients = res.params.values\n",
    "    \n",
    "    # p-values\n",
    "    p_values = res.pvalues\n",
    "    \n",
    "    # standard errors\n",
    "    standard_errors = res.bse.values\n",
    "    \n",
    "    #sort them all by coefficients\n",
    "    l1, l2, l3, l4 = zip(*sorted(zip(coefficients[1:], variables[1:], standard_errors[1:], p_values[1:])))\n",
    "    \n",
    "    # in this case, we index starting from the first element, not to plot the intercept\n",
    "    \n",
    "    # we will use standard errors, instead of CIs\n",
    "    # two standard errors approximate the CIs (you can actually see in the summary table that\n",
    "    # +/2 SI is equivalent to the CIs)\n",
    "    plt.figure(figsize=(12, 2 + int(len(l1)/4)))\n",
    "    plt.errorbar(l1, np.array(range(len(l1))), xerr= 2*np.array(l3), linewidth = 1,\n",
    "                 linestyle = 'none',marker = 'o',markersize= 3,\n",
    "                 markerfacecolor = 'black',markeredgecolor = 'black', capsize= 5)\n",
    "    \n",
    "    plt.vlines(0,0, len(l1), linestyle = '--')\n",
    "    plt.title(f'Coefficients of regression model for target \"{target_feature}\" with ±2se intervals; p-values less than 0.05 are printed')\n",
    "    plt.xlabel('Coefficient value in the model')\n",
    "\n",
    "    # Annotate p-values\n",
    "    for i, (coef, p) in enumerate(zip(l1, l4)):\n",
    "        if p < 0.05:  # Only annotate significant p-values\n",
    "            plt.text(coef, i, f'p={p:.2e}', fontsize=8, verticalalignment='bottom')\n",
    "    \n",
    "    plt.yticks(range(len(l2)),l2)\n",
    "    plt.show()\n",
    "\n",
    "    # Print the summary of the regression model\n",
    "    print(res.summary())"
   ]
  },
  {
   "cell_type": "code",
   "execution_count": 85,
   "id": "2253d871-fb10-41fe-888e-29cc3c07ca3c",
   "metadata": {},
   "outputs": [
    {
     "data": {
      "image/png": "[encoded data removed]",
      "text/plain": [
       "<Figure size 1200x600 with 1 Axes>"
      ]
     },
     "metadata": {},
     "output_type": "display_data"
    },
    {
     "name": "stdout",
     "output_type": "stream",
     "text": [
      "                            OLS Regression Results                            \n",
      "==============================================================================\n",
      "Dep. Variable:             avg_rating   R-squared:                       0.090\n",
      "Model:                            OLS   Adj. R-squared:                  0.089\n",
      "Method:                 Least Squares   F-statistic:                     99.75\n",
      "Date:                Sun, 17 Dec 2023   Prob (F-statistic):          6.62e-315\n",
      "Time:                        22:13:21   Log-Likelihood:                -25486.\n",
      "No. Observations:               16179   AIC:                         5.101e+04\n",
      "Df Residuals:                   16162   BIC:                         5.114e+04\n",
      "Df Model:                          16                                         \n",
      "Covariance Type:            nonrobust                                         \n",
      "=====================================================================================================\n",
      "                                        coef    std err          t      P>|t|      [0.025      0.975]\n",
      "-----------------------------------------------------------------------------------------------------\n",
      "Intercept                             6.0662      0.300     20.205      0.000       5.478       6.655\n",
      "C(mood_dark)[T.1]                    -0.2916      0.023    -12.544      0.000      -0.337      -0.246\n",
      "C(mood_dramatic)[T.1]                 0.2415      0.022     10.865      0.000       0.198       0.285\n",
      "C(mood_exciting)[T.1]                -0.4036      0.030    -13.672      0.000      -0.461      -0.346\n",
      "C(mood_fantastical)[T.1]              0.0596      0.076      0.784      0.433      -0.089       0.208\n",
      "C(mood_inspirational)[T.1]            0.3398      0.031     10.792      0.000       0.278       0.401\n",
      "C(mood_lighthearted)[T.1]            -0.1354      0.030     -4.495      0.000      -0.194      -0.076\n",
      "C(mood_romantic)[T.1]                -0.0897      0.034     -2.660      0.008      -0.156      -0.024\n",
      "C(target_audience_adults)[T.1]        0.0469      0.294      0.160      0.873      -0.528       0.622\n",
      "C(target_audience_children)[T.1]      0.0018      0.295      0.006      0.995      -0.576       0.579\n",
      "C(target_audience_elderly)[T.1]       0.5791      0.507      1.142      0.253      -0.415       1.573\n",
      "C(target_audience_families)[T.1]     -0.0205      0.294     -0.070      0.944      -0.596       0.555\n",
      "C(target_audience_teenagers)[T.1]    -0.3031      0.295     -1.028      0.304      -0.881       0.275\n",
      "C(temporal_setting_future)[T.1]      -0.2512      0.088     -2.855      0.004      -0.424      -0.079\n",
      "C(temporal_setting_modern)[T.1]      -0.0479      0.065     -0.732      0.464      -0.176       0.080\n",
      "C(temporal_setting_past)[T.1]         0.3337      0.067      5.012      0.000       0.203       0.464\n",
      "runtime                           -2.409e-08   1.08e-06     -0.022      0.982   -2.15e-06     2.1e-06\n",
      "==============================================================================\n",
      "Omnibus:                      883.705   Durbin-Watson:                   1.965\n",
      "Prob(Omnibus):                  0.000   Jarque-Bera (JB):             1063.372\n",
      "Skew:                          -0.571   Prob(JB):                    1.24e-231\n",
      "Kurtosis:                       3.523   Cond. No.                     6.86e+05\n",
      "==============================================================================\n",
      "\n",
      "Notes:\n",
      "[1] Standard Errors assume that the covariance matrix of the errors is correctly specified.\n",
      "[2] The condition number is large, 6.86e+05. This might indicate that there are\n",
      "strong multicollinearity or other numerical problems.\n"
     ]
    }
   ],
   "source": [
    "fit_regression_model(plot_analysis, ['runtime', 'mood', 'target_audience', 'temporal_setting'], 'avg_rating')"
   ]
  }
 ],
 "metadata": {
  "kernelspec": {
   "display_name": "Python 3 (ipykernel)",
   "language": "python",
   "name": "python3"
  },
  "language_info": {
   "codemirror_mode": {
    "name": "ipython",
    "version": 3
   },
   "file_extension": ".py",
   "mimetype": "text/x-python",
   "name": "python",
   "nbconvert_exporter": "python",
   "pygments_lexer": "ipython3",
   "version": "3.11.6"
  }
 },
 "nbformat": 4,
 "nbformat_minor": 5
}
